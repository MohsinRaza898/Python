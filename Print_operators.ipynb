{
 "cells": [
  {
   "cell_type": "markdown",
   "metadata": {
    "id": "HixiINjUkk3l"
   },
   "source": [
    "# Topic: print()"
   ]
  },
  {
   "cell_type": "markdown",
   "metadata": {
    "id": "QDb_hhYfkk3q"
   },
   "source": [
    "1) Using the python print function print any string value, integer value, boolean value, float value in single print command"
   ]
  },
  {
   "cell_type": "code",
   "execution_count": null,
   "metadata": {
    "colab": {
     "base_uri": "https://localhost:8080/"
    },
    "executionInfo": {
     "elapsed": 17,
     "status": "ok",
     "timestamp": 1692193364897,
     "user": {
      "displayName": "Mohsin Raza",
      "userId": "02069157311777040551"
     },
     "user_tz": -300
    },
    "id": "UyyP7a65kk3r",
    "outputId": "5771646f-9e71-49ef-907c-8751e99720ea"
   },
   "outputs": [
    {
     "name": "stdout",
     "output_type": "stream",
     "text": [
      "Mohsin 25 True 12.5\n"
     ]
    }
   ],
   "source": [
    "print(\"Mohsin\", 25 , True , 12.5)"
   ]
  },
  {
   "cell_type": "markdown",
   "metadata": {
    "id": "EAFYv7P9kk3u"
   },
   "source": [
    "2) Using the python print function print hyphon(-) separated any string value, integer value, boolean value, float value in single print command"
   ]
  },
  {
   "cell_type": "code",
   "execution_count": null,
   "metadata": {
    "colab": {
     "base_uri": "https://localhost:8080/"
    },
    "executionInfo": {
     "elapsed": 486,
     "status": "ok",
     "timestamp": 1692193426273,
     "user": {
      "displayName": "Mohsin Raza",
      "userId": "02069157311777040551"
     },
     "user_tz": -300
    },
    "id": "iHwKZdRCkk3v",
    "outputId": "445d1577-2991-45aa-879f-c9e9a2ed43ae"
   },
   "outputs": [
    {
     "name": "stdout",
     "output_type": "stream",
     "text": [
      "Mohsin-25-True-12.5\n"
     ]
    }
   ],
   "source": [
    "print(\"Mohsin\", 25 , True , 12.5, sep='-')\n"
   ]
  },
  {
   "cell_type": "markdown",
   "metadata": {
    "id": "jJ2Ay4SMkk3x"
   },
   "source": [
    "3) Using the python print function print any string value, integer value, boolean value, float value in separate print command.\n",
    "But every value must be space separated and in single line"
   ]
  },
  {
   "cell_type": "code",
   "execution_count": null,
   "metadata": {
    "colab": {
     "base_uri": "https://localhost:8080/"
    },
    "executionInfo": {
     "elapsed": 54,
     "status": "ok",
     "timestamp": 1692193608626,
     "user": {
      "displayName": "Mohsin Raza",
      "userId": "02069157311777040551"
     },
     "user_tz": -300
    },
    "id": "BWQJSxd0kk3x",
    "outputId": "34746e1c-d99f-4a41-83f4-ab87c21408a1"
   },
   "outputs": [
    {
     "name": "stdout",
     "output_type": "stream",
     "text": [
      "Mohsin 25 True 12.5 "
     ]
    }
   ],
   "source": [
    "print(\"Mohsin\", end=' ')\n",
    "print(25, end=' ')\n",
    "print(True, end=' ')\n",
    "print(12.5, end=' ')\n"
   ]
  },
  {
   "cell_type": "markdown",
   "metadata": {
    "id": "XZCXempBkk3y"
   },
   "source": [
    "4) Can a python print function take no value to print???"
   ]
  },
  {
   "cell_type": "code",
   "execution_count": null,
   "metadata": {
    "colab": {
     "base_uri": "https://localhost:8080/"
    },
    "executionInfo": {
     "elapsed": 509,
     "status": "ok",
     "timestamp": 1692193747078,
     "user": {
      "displayName": "Mohsin Raza",
      "userId": "02069157311777040551"
     },
     "user_tz": -300
    },
    "id": "AVXSrPTLkk3z",
    "outputId": "aafbf318-ef93-4f8b-cb25-843a4f6a0fc4"
   },
   "outputs": [
    {
     "name": "stdout",
     "output_type": "stream",
     "text": [
      "\n"
     ]
    }
   ],
   "source": [
    "print()"
   ]
  },
  {
   "cell_type": "markdown",
   "metadata": {
    "id": "nuhXEfD1kk30"
   },
   "source": [
    "# TOPIC :Variables in Python Operators"
   ]
  },
  {
   "cell_type": "markdown",
   "metadata": {
    "id": "7yh_k6oVkk31"
   },
   "source": [
    "5) One of my friends name is Mr. Ahmed. He is 30 years old.  He is a lawer by profession. He has done his bachelors in law in the year 2005. He is working with a reputable law firm 'The Himalya Associates' in Karachi since 2015.\n",
    "He is a handsome lawer with height of 5.10 feets and weight 70600g. His monthly income is Rs. 200k PKR.\n",
    "\n",
    "Note: Create variables from above text and also assign values from the text.  "
   ]
  },
  {
   "cell_type": "code",
   "execution_count": null,
   "metadata": {
    "id": "DyuhhTvokk32"
   },
   "outputs": [],
   "source": [
    "name = \"Mr.Ahmed\"\n",
    "age = 30\n",
    "profession = \"lawer\"\n",
    "complete_bachelors_in_law = 2005\n",
    "working_at =  \"The Himalya Associates in karachi\"\n",
    "working_since =  2015\n",
    "height = 5.10\n",
    "weight_in_g = 70600\n",
    "income = 200000"
   ]
  },
  {
   "cell_type": "markdown",
   "metadata": {
    "id": "QzPEQcmMkk32"
   },
   "source": [
    "6)How many years has been to Mr. Ahmed after his bachelors degree? Create a variable that hold current year value and then subtract it from his passout year"
   ]
  },
  {
   "cell_type": "code",
   "execution_count": null,
   "metadata": {
    "colab": {
     "base_uri": "https://localhost:8080/"
    },
    "executionInfo": {
     "elapsed": 11,
     "status": "ok",
     "timestamp": 1692198372085,
     "user": {
      "displayName": "Mohsin Raza",
      "userId": "02069157311777040551"
     },
     "user_tz": -300
    },
    "id": "Uc837gS9kk33",
    "outputId": "970e4764-7c63-43a6-f408-52509f2833e4"
   },
   "outputs": [
    {
     "name": "stdout",
     "output_type": "stream",
     "text": [
      "years_passed_after_bachlor:  10\n"
     ]
    }
   ],
   "source": [
    "years_passed_after_bachlor = working_since - complete_bachelors_in_law\n",
    "print(\"years_passed_after_bachlor: \" , years_passed_after_bachlor)"
   ]
  },
  {
   "cell_type": "markdown",
   "metadata": {
    "id": "p9I_RYlkkk34"
   },
   "source": [
    "7) How many years has Mr. Ahmed been working with law firm 'The Himalya Associates'. Create necesary variables and print the correct number of years in working in the firm"
   ]
  },
  {
   "cell_type": "code",
   "execution_count": null,
   "metadata": {
    "colab": {
     "base_uri": "https://localhost:8080/"
    },
    "executionInfo": {
     "elapsed": 849,
     "status": "ok",
     "timestamp": 1692198376696,
     "user": {
      "displayName": "Mohsin Raza",
      "userId": "02069157311777040551"
     },
     "user_tz": -300
    },
    "id": "J5yyRQgokk34",
    "outputId": "00b7b388-b18c-4b18-dfe0-cacab753bf1b"
   },
   "outputs": [
    {
     "name": "stdout",
     "output_type": "stream",
     "text": [
      "8\n"
     ]
    }
   ],
   "source": [
    "working_years = 2023 - working_since\n",
    "print(working_years)"
   ]
  },
  {
   "cell_type": "markdown",
   "metadata": {
    "id": "662OXFIxkk36"
   },
   "source": [
    "8)Convert the monthly income of Mr. Ahmed in dollars.  Create necesary variables and print the income in dollars."
   ]
  },
  {
   "cell_type": "code",
   "execution_count": null,
   "metadata": {
    "colab": {
     "base_uri": "https://localhost:8080/"
    },
    "executionInfo": {
     "elapsed": 8,
     "status": "ok",
     "timestamp": 1692198378917,
     "user": {
      "displayName": "Mohsin Raza",
      "userId": "02069157311777040551"
     },
     "user_tz": -300
    },
    "id": "6sLOpOl2kk36",
    "outputId": "2d3a4c94-d851-425f-adb5-e9014a83d66e"
   },
   "outputs": [
    {
     "name": "stdout",
     "output_type": "stream",
     "text": [
      "income in dollars($): 694.4444444444445 $\n"
     ]
    }
   ],
   "source": [
    "income_in_dollars = income/288\n",
    "print(\"income in dollars($):\", income_in_dollars,\"$\")"
   ]
  },
  {
   "cell_type": "markdown",
   "metadata": {
    "id": "L1FeQ2EOkk37"
   },
   "source": [
    "9) Check if the income in dollars is a float or integer value. if it is float, re-write the code so that income gets converted in integer. print the income in integer type value"
   ]
  },
  {
   "cell_type": "code",
   "execution_count": null,
   "metadata": {
    "colab": {
     "base_uri": "https://localhost:8080/"
    },
    "executionInfo": {
     "elapsed": 9,
     "status": "ok",
     "timestamp": 1692198383100,
     "user": {
      "displayName": "Mohsin Raza",
      "userId": "02069157311777040551"
     },
     "user_tz": -300
    },
    "id": "G4VfrPJHkk38",
    "outputId": "0074ba2c-ecc7-469c-813a-9bcd95f1dd96"
   },
   "outputs": [
    {
     "data": {
      "text/plain": [
       "float"
      ]
     },
     "execution_count": 43,
     "metadata": {},
     "output_type": "execute_result"
    }
   ],
   "source": [
    "type(income_in_dollars)"
   ]
  },
  {
   "cell_type": "code",
   "execution_count": null,
   "metadata": {
    "colab": {
     "base_uri": "https://localhost:8080/"
    },
    "executionInfo": {
     "elapsed": 9,
     "status": "ok",
     "timestamp": 1692198386168,
     "user": {
      "displayName": "Mohsin Raza",
      "userId": "02069157311777040551"
     },
     "user_tz": -300
    },
    "id": "zpETMSwW3Uu5",
    "outputId": "c6e54fa7-cc1d-467a-99e5-da4125ede896"
   },
   "outputs": [
    {
     "name": "stdout",
     "output_type": "stream",
     "text": [
      "694\n"
     ]
    }
   ],
   "source": [
    "income_in_dollars = int(income_in_dollars)\n",
    "print(income_in_dollars)"
   ]
  },
  {
   "cell_type": "code",
   "execution_count": null,
   "metadata": {
    "colab": {
     "base_uri": "https://localhost:8080/"
    },
    "executionInfo": {
     "elapsed": 13,
     "status": "ok",
     "timestamp": 1692198388912,
     "user": {
      "displayName": "Mohsin Raza",
      "userId": "02069157311777040551"
     },
     "user_tz": -300
    },
    "id": "lfqV4ggP3edD",
    "outputId": "40a7cde9-217c-432f-9876-fa7c9cb1c339"
   },
   "outputs": [
    {
     "data": {
      "text/plain": [
       "int"
      ]
     },
     "execution_count": 45,
     "metadata": {},
     "output_type": "execute_result"
    }
   ],
   "source": [
    "type(income_in_dollars)"
   ]
  },
  {
   "cell_type": "raw",
   "metadata": {
    "id": "9PXEiaUWkk39"
   },
   "source": [
    "10) Print the type of Mr. Ahmed's weight. Convert the weight of Mr. Ahmed in kg so that weight must be a integer value."
   ]
  },
  {
   "cell_type": "code",
   "execution_count": null,
   "metadata": {
    "colab": {
     "base_uri": "https://localhost:8080/"
    },
    "executionInfo": {
     "elapsed": 10,
     "status": "ok",
     "timestamp": 1692198409258,
     "user": {
      "displayName": "Mohsin Raza",
      "userId": "02069157311777040551"
     },
     "user_tz": -300
    },
    "id": "ju1D5Oehkk3-",
    "outputId": "251bd04f-d584-4772-90fc-9df097e0fff4"
   },
   "outputs": [
    {
     "data": {
      "text/plain": [
       "int"
      ]
     },
     "execution_count": 47,
     "metadata": {},
     "output_type": "execute_result"
    }
   ],
   "source": [
    "type(weight_in_g)"
   ]
  },
  {
   "cell_type": "code",
   "execution_count": null,
   "metadata": {
    "colab": {
     "base_uri": "https://localhost:8080/"
    },
    "executionInfo": {
     "elapsed": 1124,
     "status": "ok",
     "timestamp": 1692198486018,
     "user": {
      "displayName": "Mohsin Raza",
      "userId": "02069157311777040551"
     },
     "user_tz": -300
    },
    "id": "lwLmVexZ4RbA",
    "outputId": "dffb52be-edfd-40ee-93f8-17fb62b55bd5"
   },
   "outputs": [
    {
     "name": "stdout",
     "output_type": "stream",
     "text": [
      "70.6\n"
     ]
    },
    {
     "data": {
      "text/plain": [
       "float"
      ]
     },
     "execution_count": 51,
     "metadata": {},
     "output_type": "execute_result"
    }
   ],
   "source": [
    "weight_in_kg = weight_in_g/1000\n",
    "print(weight_in_kg)\n",
    "type(weight_in_kg)"
   ]
  },
  {
   "cell_type": "code",
   "execution_count": null,
   "metadata": {
    "colab": {
     "base_uri": "https://localhost:8080/"
    },
    "executionInfo": {
     "elapsed": 823,
     "status": "ok",
     "timestamp": 1692198727211,
     "user": {
      "displayName": "Mohsin Raza",
      "userId": "02069157311777040551"
     },
     "user_tz": -300
    },
    "id": "CHwu-JBD5ACS",
    "outputId": "3549d6fc-fea3-4684-8b53-0ef7803d4af5"
   },
   "outputs": [
    {
     "data": {
      "text/plain": [
       "int"
      ]
     },
     "execution_count": 53,
     "metadata": {},
     "output_type": "execute_result"
    }
   ],
   "source": [
    "weight_in_kg = int(weight_in_kg)\n",
    "type(weight_in_kg)"
   ]
  },
  {
   "cell_type": "raw",
   "metadata": {
    "id": "5qDs2hbXkk3-"
   },
   "source": [
    "11) print the year of birth of Mr. Ahmed."
   ]
  },
  {
   "cell_type": "code",
   "execution_count": null,
   "metadata": {
    "colab": {
     "base_uri": "https://localhost:8080/"
    },
    "executionInfo": {
     "elapsed": 893,
     "status": "ok",
     "timestamp": 1692199413796,
     "user": {
      "displayName": "Mohsin Raza",
      "userId": "02069157311777040551"
     },
     "user_tz": -300
    },
    "id": "HQe4G7-Bkk3_",
    "outputId": "650c04fc-443c-443c-8e63-1e266877520e"
   },
   "outputs": [
    {
     "name": "stdout",
     "output_type": "stream",
     "text": [
      "1993\n"
     ]
    }
   ],
   "source": [
    "year_of_birth = 2023 - age\n",
    "print(year_of_birth)"
   ]
  },
  {
   "cell_type": "markdown",
   "metadata": {
    "id": "WBjW5KPckk4A"
   },
   "source": [
    "12) Can Rs. 100 be divided equally among 6 students?\n",
    "HINT: % operator"
   ]
  },
  {
   "cell_type": "code",
   "execution_count": null,
   "metadata": {
    "colab": {
     "base_uri": "https://localhost:8080/"
    },
    "executionInfo": {
     "elapsed": 1066,
     "status": "ok",
     "timestamp": 1692199989921,
     "user": {
      "displayName": "Mohsin Raza",
      "userId": "02069157311777040551"
     },
     "user_tz": -300
    },
    "id": "wxJndlRTkk4A",
    "outputId": "2fb58d2c-b15f-4ebe-9d3a-565f5df491f6"
   },
   "outputs": [
    {
     "name": "stdout",
     "output_type": "stream",
     "text": [
      "Amount per student: 16\n",
      "Remaining amount: 4\n"
     ]
    }
   ],
   "source": [
    "total_amount = 100\n",
    "num_students = 6\n",
    "\n",
    "amount_per_student = total_amount // num_students\n",
    "remaining_amount = total_amount % num_students\n",
    "\n",
    "print(\"Amount per student:\", amount_per_student)\n",
    "print(\"Remaining amount:\", remaining_amount)\n"
   ]
  },
  {
   "cell_type": "code",
   "execution_count": null,
   "metadata": {
    "colab": {
     "base_uri": "https://localhost:8080/"
    },
    "executionInfo": {
     "elapsed": 1114,
     "status": "ok",
     "timestamp": 1692200050788,
     "user": {
      "displayName": "Mohsin Raza",
      "userId": "02069157311777040551"
     },
     "user_tz": -300
    },
    "id": "ctwhY0DJkk4B",
    "outputId": "a98b2950-c665-4f20-970a-7461753e152d"
   },
   "outputs": [
    {
     "name": "stdout",
     "output_type": "stream",
     "text": [
      "amount can't divide equally\n"
     ]
    }
   ],
   "source": [
    "if (remaining_amount==0):\n",
    "  print(\"amount divide equally\")\n",
    "else:\n",
    "  print(\"amount can't divide equally\")"
   ]
  }
 ],
 "metadata": {
  "colab": {
   "provenance": [
    {
     "file_id": "1IBtI2VLQzzakpLokouuNFHL9dwFLOShW",
     "timestamp": 1692193320229
    }
   ]
  },
  "kernelspec": {
   "display_name": "Python 3 (ipykernel)",
   "language": "python",
   "name": "python3"
  },
  "language_info": {
   "codemirror_mode": {
    "name": "ipython",
    "version": 3
   },
   "file_extension": ".py",
   "mimetype": "text/x-python",
   "name": "python",
   "nbconvert_exporter": "python",
   "pygments_lexer": "ipython3",
   "version": "3.12.4"
  }
 },
 "nbformat": 4,
 "nbformat_minor": 4
}
