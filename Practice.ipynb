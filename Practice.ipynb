{
 "cells": [
  {
   "cell_type": "code",
   "execution_count": null,
   "metadata": {
    "id": "zdcrIltGbXGD"
   },
   "outputs": [],
   "source": [
    "student=[\"huzaifa\" , 31 , True, 35.7,[11, 12,  13 ]]"
   ]
  },
  {
   "cell_type": "code",
   "execution_count": null,
   "metadata": {
    "id": "F5UmUf9Mee0r"
   },
   "outputs": [],
   "source": [
    "student [2]=False"
   ]
  },
  {
   "cell_type": "code",
   "execution_count": null,
   "metadata": {
    "colab": {
     "base_uri": "https://localhost:8080/"
    },
    "executionInfo": {
     "elapsed": 476,
     "status": "ok",
     "timestamp": 1658553358983,
     "user": {
      "displayName": "Mohsin Raza",
      "userId": "02069157311777040551"
     },
     "user_tz": -300
    },
    "id": "ndt5q5B_e2hk",
    "outputId": "02ccab5d-4022-4599-de96-1efcbfacee89"
   },
   "outputs": [
    {
     "name": "stdout",
     "output_type": "stream",
     "text": [
      "['huzaifa', 31, False, 35.7, [11, 12, 13]]\n"
     ]
    }
   ],
   "source": [
    "print (student)"
   ]
  },
  {
   "cell_type": "code",
   "execution_count": null,
   "metadata": {
    "id": "zdc0FoQkfN1a"
   },
   "outputs": [],
   "source": [
    "del student [1]"
   ]
  },
  {
   "cell_type": "code",
   "execution_count": null,
   "metadata": {
    "colab": {
     "base_uri": "https://localhost:8080/"
    },
    "executionInfo": {
     "elapsed": 36,
     "status": "ok",
     "timestamp": 1658553468004,
     "user": {
      "displayName": "Mohsin Raza",
      "userId": "02069157311777040551"
     },
     "user_tz": -300
    },
    "id": "cSxwOawrfTHo",
    "outputId": "865e00f9-79ac-4e0a-e6ab-5573a3b32996"
   },
   "outputs": [
    {
     "name": "stdout",
     "output_type": "stream",
     "text": [
      "['huzaifa', False, 35.7, [11, 12, 13]]\n"
     ]
    }
   ],
   "source": [
    "print (student)"
   ]
  },
  {
   "cell_type": "code",
   "execution_count": null,
   "metadata": {
    "id": "0C0DOTaEfZqv"
   },
   "outputs": [],
   "source": [
    "student.append(199)"
   ]
  },
  {
   "cell_type": "code",
   "execution_count": null,
   "metadata": {
    "colab": {
     "base_uri": "https://localhost:8080/"
    },
    "executionInfo": {
     "elapsed": 563,
     "status": "ok",
     "timestamp": 1658553554722,
     "user": {
      "displayName": "Mohsin Raza",
      "userId": "02069157311777040551"
     },
     "user_tz": -300
    },
    "id": "OlzRhxMgfp9b",
    "outputId": "c6347d8a-2b7e-4878-f81a-9a18abe29dfd"
   },
   "outputs": [
    {
     "name": "stdout",
     "output_type": "stream",
     "text": [
      "['huzaifa', False, 35.7, [11, 12, 13], 199]\n"
     ]
    }
   ],
   "source": [
    "print (student)"
   ]
  },
  {
   "cell_type": "code",
   "execution_count": null,
   "metadata": {
    "id": "hBhdwEJWf25r"
   },
   "outputs": [],
   "source": [
    "student.insert(2,13142)"
   ]
  },
  {
   "cell_type": "code",
   "execution_count": null,
   "metadata": {
    "colab": {
     "base_uri": "https://localhost:8080/"
    },
    "executionInfo": {
     "elapsed": 372,
     "status": "ok",
     "timestamp": 1658553656922,
     "user": {
      "displayName": "Mohsin Raza",
      "userId": "02069157311777040551"
     },
     "user_tz": -300
    },
    "id": "1bzu8u-WgD9u",
    "outputId": "2f25cfe7-0810-47b0-a524-b42d0ae51318"
   },
   "outputs": [
    {
     "name": "stdout",
     "output_type": "stream",
     "text": [
      "['huzaifa', False, 13142, 35.7, [11, 12, 13], 199]\n"
     ]
    }
   ],
   "source": [
    "print (student)"
   ]
  },
  {
   "cell_type": "code",
   "execution_count": null,
   "metadata": {
    "id": "uwPYC8Qugjl1"
   },
   "outputs": [],
   "source": [
    "class semester():\n",
    "    def __init__(self,year, subjects, GPA, centre):\n",
    "        self.year = year\n",
    "        self.subjects = subjects\n",
    "        self.GPA = GPA\n",
    "        self.centre = centre\n",
    "\n",
    "semester1 = semester (2022, 5, 3.4, \"DUET\")"
   ]
  },
  {
   "cell_type": "code",
   "execution_count": null,
   "metadata": {
    "id": "vmv28QIO1nZe"
   },
   "outputs": [],
   "source": [
    "class cell"
   ]
  },
  {
   "cell_type": "code",
   "execution_count": null,
   "metadata": {
    "colab": {
     "base_uri": "https://localhost:8080/"
    },
    "executionInfo": {
     "elapsed": 363,
     "status": "ok",
     "timestamp": 1663813900550,
     "user": {
      "displayName": "Mohsin Raza",
      "userId": "02069157311777040551"
     },
     "user_tz": -300
    },
    "id": "5eN29lus-2gw",
    "outputId": "666872bd-734b-40fd-c6e4-7781991db27b"
   },
   "outputs": [
    {
     "name": "stdout",
     "output_type": "stream",
     "text": [
      "1 3 5 7 9 "
     ]
    }
   ],
   "source": [
    "nums = [1,2,3,4,5,6,7,8,9,10]\n",
    "for num in nums:\n",
    "    if num%2!=0:\n",
    "     print(num, end=' ')"
   ]
  },
  {
   "cell_type": "code",
   "execution_count": null,
   "metadata": {
    "colab": {
     "base_uri": "https://localhost:8080/"
    },
    "executionInfo": {
     "elapsed": 388,
     "status": "ok",
     "timestamp": 1663814436749,
     "user": {
      "displayName": "Mohsin Raza",
      "userId": "02069157311777040551"
     },
     "user_tz": -300
    },
    "id": "DFa-nAknCvm6",
    "outputId": "070a1439-f26c-4c7c-893e-70a4d98ad194"
   },
   "outputs": [
    {
     "name": "stdout",
     "output_type": "stream",
     "text": [
      "1\n"
     ]
    }
   ],
   "source": [
    "nums = [0,2,1,3,4,5,6,9,10]\n",
    "nums.sort()\n",
    "print(nums[1])"
   ]
  },
  {
   "cell_type": "code",
   "execution_count": null,
   "metadata": {
    "colab": {
     "base_uri": "https://localhost:8080/"
    },
    "executionInfo": {
     "elapsed": 27,
     "status": "ok",
     "timestamp": 1663828065283,
     "user": {
      "displayName": "Mohsin Raza",
      "userId": "02069157311777040551"
     },
     "user_tz": -300
    },
    "id": "4esrz8ZM3jGR",
    "outputId": "a04b1ae4-14e8-4772-c5b7-d70d7fe0f955"
   },
   "outputs": [
    {
     "name": "stdout",
     "output_type": "stream",
     "text": [
      "40\n"
     ]
    }
   ],
   "source": [
    "nums = [0,2,1,3,4,5,6,9,10]\n",
    "total = sum(nums)\n",
    "print(total)"
   ]
  },
  {
   "cell_type": "code",
   "execution_count": null,
   "metadata": {
    "colab": {
     "base_uri": "https://localhost:8080/"
    },
    "executionInfo": {
     "elapsed": 3766,
     "status": "ok",
     "timestamp": 1663830295254,
     "user": {
      "displayName": "Mohsin Raza",
      "userId": "02069157311777040551"
     },
     "user_tz": -300
    },
    "id": "0Cg_rCCB-0lA",
    "outputId": "4e3fd57a-3ca2-4801-bb8e-28e6d02b0d85"
   },
   "outputs": [
    {
     "name": "stdout",
     "output_type": "stream",
     "text": [
      "Enter a number:6\n",
      "6 x 1 = 6\n",
      "6 x 2 = 12\n",
      "6 x 3 = 18\n",
      "6 x 4 = 24\n",
      "6 x 5 = 30\n",
      "6 x 6 = 36\n",
      "6 x 7 = 42\n",
      "6 x 8 = 48\n",
      "6 x 9 = 54\n",
      "6 x 10 = 60\n"
     ]
    }
   ],
   "source": [
    "number = int(input (\"Enter a number:\"))\n",
    "count = 1\n",
    "while count<=10:\n",
    "      product = number*count\n",
    "      print(number, \"x\", count, \"=\", product)\n",
    "      count = count + 1"
   ]
  },
  {
   "cell_type": "code",
   "execution_count": null,
   "metadata": {
    "id": "m94bHya5Cs3i"
   },
   "outputs": [],
   "source": [
    "number = int(input (\"Enter a number:\"))\n",
    "\n",
    "for count in range(-1,-11):\n",
    "    product= count * number\n",
    "    print (count, \"x\", number, \"=\",product)"
   ]
  },
  {
   "cell_type": "markdown",
   "metadata": {
    "id": "nSDRRGmUpYMU"
   },
   "source": []
  },
  {
   "cell_type": "code",
   "execution_count": null,
   "metadata": {
    "colab": {
     "base_uri": "https://localhost:8080/",
     "height": 166
    },
    "executionInfo": {
     "elapsed": 36,
     "status": "error",
     "timestamp": 1664277144817,
     "user": {
      "displayName": "Mohsin Raza",
      "userId": "02069157311777040551"
     },
     "user_tz": -300
    },
    "id": "BZOFVAWmDx2l",
    "outputId": "08fd0363-564e-4672-de30-7c6edb63fedd"
   },
   "outputs": [
    {
     "ename": "SyntaxError",
     "evalue": "ignored",
     "output_type": "error",
     "traceback": [
      "\u001b[0;36m  File \u001b[0;32m\"<ipython-input-1-42331beed335>\"\u001b[0;36m, line \u001b[0;32m3\u001b[0m\n\u001b[0;31m    print (total\u001b[0m\n\u001b[0m                ^\u001b[0m\n\u001b[0;31mSyntaxError\u001b[0m\u001b[0;31m:\u001b[0m unexpected EOF while parsing\n"
     ]
    }
   ],
   "source": [
    "for num in range(1,100):\n",
    "    total += num\n",
    "    print (total"
   ]
  },
  {
   "cell_type": "code",
   "execution_count": null,
   "metadata": {
    "colab": {
     "base_uri": "https://localhost:8080/"
    },
    "executionInfo": {
     "elapsed": 747,
     "status": "ok",
     "timestamp": 1664277242773,
     "user": {
      "displayName": "Mohsin Raza",
      "userId": "02069157311777040551"
     },
     "user_tz": -300
    },
    "id": "FGLEGVbapcSU",
    "outputId": "101d8d85-ec58-49c0-81d8-6e6bc9fd2537"
   },
   "outputs": [
    {
     "name": "stdout",
     "output_type": "stream",
     "text": [
      "m, y,  , n, a, m, e,  , i, s,  , x, "
     ]
    }
   ],
   "source": [
    "string = \"my name is x\"\n",
    "for i in string:\n",
    "  print (i, end=\", \")"
   ]
  },
  {
   "cell_type": "code",
   "execution_count": null,
   "metadata": {
    "colab": {
     "base_uri": "https://localhost:8080/"
    },
    "executionInfo": {
     "elapsed": 28,
     "status": "ok",
     "timestamp": 1664277754537,
     "user": {
      "displayName": "Mohsin Raza",
      "userId": "02069157311777040551"
     },
     "user_tz": -300
    },
    "id": "Ke9GXjLFqJny",
    "outputId": "7a52745f-fbfe-426d-deaa-626b122949ac"
   },
   "outputs": [
    {
     "name": "stdout",
     "output_type": "stream",
     "text": [
      "{'john': 40, 'peter': 45}\n"
     ]
    }
   ],
   "source": [
    "d = {\"john\":40, \"peter\":45}\n",
    "print (d)"
   ]
  },
  {
   "cell_type": "code",
   "execution_count": null,
   "metadata": {
    "id": "ZvujJNU3uUd2"
   },
   "outputs": [],
   "source": []
  },
  {
   "cell_type": "code",
   "execution_count": null,
   "metadata": {
    "id": "A3urNw2btJFG"
   },
   "outputs": [],
   "source": [
    "list1 = [1,3,2]"
   ]
  },
  {
   "cell_type": "code",
   "execution_count": null,
   "metadata": {
    "colab": {
     "base_uri": "https://localhost:8080/",
     "height": 305
    },
    "executionInfo": {
     "elapsed": 438,
     "status": "error",
     "timestamp": 1664278496970,
     "user": {
      "displayName": "Mohsin Raza",
      "userId": "02069157311777040551"
     },
     "user_tz": -300
    },
    "id": "GJoIsLG0uWEv",
    "outputId": "1436ed8c-6d30-4348-959b-8fbd79701ef3"
   },
   "outputs": [
    {
     "ename": "NameError",
     "evalue": "ignored",
     "output_type": "error",
     "traceback": [
      "\u001b[0;31m---------------------------------------------------------------------------\u001b[0m",
      "\u001b[0;31mNameError\u001b[0m                                 Traceback (most recent call last)",
      "\u001b[0;32m<ipython-input-7-913bd7d9063d>\u001b[0m in \u001b[0;36m<module>\u001b[0;34m\u001b[0m\n\u001b[1;32m      1\u001b[0m \u001b[0ma\u001b[0m\u001b[0;34m=\u001b[0m\u001b[0;34m{\u001b[0m\u001b[0;36m1\u001b[0m\u001b[0;34m:\u001b[0m\u001b[0;34m\"A\"\u001b[0m\u001b[0;34m,\u001b[0m\u001b[0;36m2\u001b[0m\u001b[0;34m:\u001b[0m\u001b[0;34m\"B\"\u001b[0m\u001b[0;34m,\u001b[0m\u001b[0;36m3\u001b[0m\u001b[0;34m:\u001b[0m\u001b[0;34m\"C\"\u001b[0m\u001b[0;34m}\u001b[0m\u001b[0;34m\u001b[0m\u001b[0;34m\u001b[0m\u001b[0m\n\u001b[1;32m      2\u001b[0m \u001b[0;32mdel\u001b[0m \u001b[0ma\u001b[0m\u001b[0;34m\u001b[0m\u001b[0;34m\u001b[0m\u001b[0m\n\u001b[0;32m----> 3\u001b[0;31m \u001b[0mprint\u001b[0m \u001b[0;34m(\u001b[0m\u001b[0ma\u001b[0m\u001b[0;34m)\u001b[0m\u001b[0;34m\u001b[0m\u001b[0;34m\u001b[0m\u001b[0m\n\u001b[0m",
      "\u001b[0;31mNameError\u001b[0m: name 'a' is not defined"
     ]
    }
   ],
   "source": [
    "a={1:\"A\",2:\"B\",3:\"C\"}\n",
    "del a\n",
    "print (a)"
   ]
  },
  {
   "cell_type": "code",
   "execution_count": null,
   "metadata": {
    "colab": {
     "base_uri": "https://localhost:8080/"
    },
    "executionInfo": {
     "elapsed": 476,
     "status": "ok",
     "timestamp": 1664281046512,
     "user": {
      "displayName": "Mohsin Raza",
      "userId": "02069157311777040551"
     },
     "user_tz": -300
    },
    "id": "aXavWZFWvFCm",
    "outputId": "28c514cc-0d0b-4673-b4c8-1e56db44a915"
   },
   "outputs": [
    {
     "name": "stdout",
     "output_type": "stream",
     "text": [
      "[(3, 1), (4, 2), (4, 1), (5, 2)]\n"
     ]
    }
   ],
   "source": [
    "s1=[3,4]\n",
    "s2=[1,2]\n",
    "s3=list()\n",
    "i=0\n",
    "j=0\n",
    "for i in s1:\n",
    "     for j in s2:\n",
    "      s3.append((i,j))\n",
    "      i+=1\n",
    "      j+=1\n",
    "print (s3)"
   ]
  },
  {
   "cell_type": "code",
   "execution_count": null,
   "metadata": {
    "colab": {
     "base_uri": "https://localhost:8080/"
    },
    "executionInfo": {
     "elapsed": 658,
     "status": "ok",
     "timestamp": 1664279039862,
     "user": {
      "displayName": "Mohsin Raza",
      "userId": "02069157311777040551"
     },
     "user_tz": -300
    },
    "id": "pdudFtT7wQNN",
    "outputId": "b55a6400-7070-4972-98d7-38b71c182752"
   },
   "outputs": [
    {
     "name": "stdout",
     "output_type": "stream",
     "text": [
      "40\n"
     ]
    }
   ],
   "source": [
    "d={\"john\":40,\"peter\":45}\n",
    "print (d[\"john\"])"
   ]
  },
  {
   "cell_type": "code",
   "execution_count": null,
   "metadata": {
    "colab": {
     "base_uri": "https://localhost:8080/"
    },
    "executionInfo": {
     "elapsed": 520,
     "status": "ok",
     "timestamp": 1664279156897,
     "user": {
      "displayName": "Mohsin Raza",
      "userId": "02069157311777040551"
     },
     "user_tz": -300
    },
    "id": "mpaHylIyw6Gl",
    "outputId": "fb0015de-59bf-4702-ddf2-737c1a3f7764"
   },
   "outputs": [
    {
     "name": "stdout",
     "output_type": "stream",
     "text": [
      "2 1\n"
     ]
    }
   ],
   "source": [
    "x=1\n",
    "y=2\n",
    "z=x\n",
    "x=y\n",
    "y=z\n",
    "print (x,y)"
   ]
  },
  {
   "cell_type": "code",
   "execution_count": null,
   "metadata": {
    "colab": {
     "base_uri": "https://localhost:8080/"
    },
    "executionInfo": {
     "elapsed": 10,
     "status": "ok",
     "timestamp": 1664279320903,
     "user": {
      "displayName": "Mohsin Raza",
      "userId": "02069157311777040551"
     },
     "user_tz": -300
    },
    "id": "ubWr-a2_xgim",
    "outputId": "bb7f651f-070a-4008-e927-3dfe17e2d625"
   },
   "outputs": [
    {
     "name": "stdout",
     "output_type": "stream",
     "text": [
      "[2]\n"
     ]
    }
   ],
   "source": [
    "Ist=[1,2,3,4]\n",
    "print (Ist[-3:-2])"
   ]
  },
  {
   "cell_type": "code",
   "execution_count": null,
   "metadata": {
    "colab": {
     "base_uri": "https://localhost:8080/"
    },
    "executionInfo": {
     "elapsed": 579,
     "status": "ok",
     "timestamp": 1664279501500,
     "user": {
      "displayName": "Mohsin Raza",
      "userId": "02069157311777040551"
     },
     "user_tz": -300
    },
    "id": "ZzkZILfEyOMk",
    "outputId": "6986575a-9547-490c-c77f-b8ce55ad403d"
   },
   "outputs": [
    {
     "name": "stdout",
     "output_type": "stream",
     "text": [
      "5.5\n"
     ]
    }
   ],
   "source": [
    "x=1/2.0+3//3+4**1\n",
    "print (x)"
   ]
  },
  {
   "cell_type": "code",
   "execution_count": null,
   "metadata": {
    "id": "VQ_3lIrLyioM"
   },
   "outputs": [],
   "source": []
  },
  {
   "cell_type": "code",
   "execution_count": null,
   "metadata": {
    "colab": {
     "base_uri": "https://localhost:8080/"
    },
    "executionInfo": {
     "elapsed": 472,
     "status": "ok",
     "timestamp": 1664279599091,
     "user": {
      "displayName": "Mohsin Raza",
      "userId": "02069157311777040551"
     },
     "user_tz": -300
    },
    "id": "BqbkWvdTyiqi",
    "outputId": "36553780-069b-47f6-bbfd-c737dbf2064e"
   },
   "outputs": [
    {
     "name": "stdout",
     "output_type": "stream",
     "text": [
      "5\n"
     ]
    }
   ],
   "source": [
    "numbers =[1,2,3,4]\n",
    "numbers.append([5,6,7,8])\n",
    "print (len(numbers))"
   ]
  },
  {
   "cell_type": "code",
   "execution_count": null,
   "metadata": {
    "colab": {
     "base_uri": "https://localhost:8080/"
    },
    "executionInfo": {
     "elapsed": 35,
     "status": "ok",
     "timestamp": 1664279686602,
     "user": {
      "displayName": "Mohsin Raza",
      "userId": "02069157311777040551"
     },
     "user_tz": -300
    },
    "id": "5dggF9YAy7_Z",
    "outputId": "1a2c23f3-e113-4915-ae68-e3d7c93cb179"
   },
   "outputs": [
    {
     "name": "stdout",
     "output_type": "stream",
     "text": [
      "0\n"
     ]
    }
   ],
   "source": [
    "print (16%15//16)"
   ]
  },
  {
   "cell_type": "code",
   "execution_count": null,
   "metadata": {
    "colab": {
     "base_uri": "https://localhost:8080/"
    },
    "executionInfo": {
     "elapsed": 28,
     "status": "ok",
     "timestamp": 1664279836956,
     "user": {
      "displayName": "Mohsin Raza",
      "userId": "02069157311777040551"
     },
     "user_tz": -300
    },
    "id": "8B6qbDbIzNBG",
    "outputId": "7345850e-cd9a-486b-9db8-38ca01a8c0b7"
   },
   "outputs": [
    {
     "data": {
      "text/plain": [
       "False"
      ]
     },
     "execution_count": 19,
     "metadata": {},
     "output_type": "execute_result"
    }
   ],
   "source": [
    "d1={\"john\":40, \"peter\":45}\n",
    "d2={\"john\":466, \"peter\": 45}\n",
    "d1==d2"
   ]
  },
  {
   "cell_type": "code",
   "execution_count": null,
   "metadata": {
    "colab": {
     "base_uri": "https://localhost:8080/"
    },
    "executionInfo": {
     "elapsed": 515,
     "status": "ok",
     "timestamp": 1664280638069,
     "user": {
      "displayName": "Mohsin Raza",
      "userId": "02069157311777040551"
     },
     "user_tz": -300
    },
    "id": "1fWL6jzo2ilu",
    "outputId": "920aea5d-07b8-43e4-ec00-cd7c07983156"
   },
   "outputs": [
    {
     "data": {
      "text/plain": [
       "False"
      ]
     },
     "execution_count": 20,
     "metadata": {},
     "output_type": "execute_result"
    }
   ],
   "source": [
    "list1=[11,2,23]\n",
    "list2=[11,2,2]\n",
    "list1<list2"
   ]
  }
 ],
 "metadata": {
  "colab": {
   "authorship_tag": "ABX9TyO7tOWzr7Baxgme4f1TfIRx",
   "provenance": []
  },
  "kernelspec": {
   "display_name": "Python 3 (ipykernel)",
   "language": "python",
   "name": "python3"
  },
  "language_info": {
   "codemirror_mode": {
    "name": "ipython",
    "version": 3
   },
   "file_extension": ".py",
   "mimetype": "text/x-python",
   "name": "python",
   "nbconvert_exporter": "python",
   "pygments_lexer": "ipython3",
   "version": "3.12.4"
  }
 },
 "nbformat": 4,
 "nbformat_minor": 4
}
