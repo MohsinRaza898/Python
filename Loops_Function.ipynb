{
 "cells": [
  {
   "cell_type": "code",
   "execution_count": null,
   "metadata": {
    "colab": {
     "base_uri": "https://localhost:8080/",
     "height": 36
    },
    "executionInfo": {
     "elapsed": 16,
     "status": "ok",
     "timestamp": 1692549680873,
     "user": {
      "displayName": "Mohsin Raza",
      "userId": "02069157311777040551"
     },
     "user_tz": -300
    },
    "id": "U1AzlR9Uzgw6",
    "outputId": "0d675842-42e5-404a-c681-348254385f84"
   },
   "outputs": [
    {
     "data": {
      "application/vnd.google.colaboratory.intrinsic+json": {
       "type": "string"
      },
      "text/plain": [
       "'0b10001'"
      ]
     },
     "execution_count": 5,
     "metadata": {},
     "output_type": "execute_result"
    }
   ],
   "source": [
    "bin(17) # bin is use for binary representation of anay number"
   ]
  },
  {
   "cell_type": "markdown",
   "metadata": {
    "id": "QHmd7riU1G0A"
   },
   "source": [
    "Create 3 variables to store street, city and country, now create address variable to store entire address. Use two ways of creating this variable, one using + operator and the other using f-string. Now Print the address in such a way that the street, city and country prints in a separate line"
   ]
  },
  {
   "cell_type": "code",
   "execution_count": null,
   "metadata": {
    "colab": {
     "base_uri": "https://localhost:8080/"
    },
    "executionInfo": {
     "elapsed": 547,
     "status": "ok",
     "timestamp": 1692550070000,
     "user": {
      "displayName": "Mohsin Raza",
      "userId": "02069157311777040551"
     },
     "user_tz": -300
    },
    "id": "JPSyFc-J0Ta7",
    "outputId": "29a07c4a-db4c-41dc-f8d2-188b31d416ca"
   },
   "outputs": [
    {
     "name": "stdout",
     "output_type": "stream",
     "text": [
      "street no 123\n",
      "karachi\n",
      "PAKISTAN\n"
     ]
    }
   ],
   "source": [
    "street = \"street no 123\"\n",
    "city = \"karachi\"\n",
    "country = \"PAKISTAN\"\n",
    "\n",
    "address = street +\"\\n\" + city + \"\\n\" + country\n",
    "print(address)"
   ]
  },
  {
   "cell_type": "code",
   "execution_count": null,
   "metadata": {
    "colab": {
     "base_uri": "https://localhost:8080/"
    },
    "executionInfo": {
     "elapsed": 8,
     "status": "ok",
     "timestamp": 1692550129628,
     "user": {
      "displayName": "Mohsin Raza",
      "userId": "02069157311777040551"
     },
     "user_tz": -300
    },
    "id": "MvogX2ot187C",
    "outputId": "7a549fe0-494b-4168-8f79-799bebe6b3d4"
   },
   "outputs": [
    {
     "name": "stdout",
     "output_type": "stream",
     "text": [
      "137240511665712\n"
     ]
    }
   ],
   "source": [
    "street_address = str(id(street))\n",
    "print(street_address)"
   ]
  },
  {
   "cell_type": "code",
   "execution_count": null,
   "metadata": {
    "colab": {
     "base_uri": "https://localhost:8080/"
    },
    "executionInfo": {
     "elapsed": 13,
     "status": "ok",
     "timestamp": 1692550288934,
     "user": {
      "displayName": "Mohsin Raza",
      "userId": "02069157311777040551"
     },
     "user_tz": -300
    },
    "id": "FFPkz9rN2bhS",
    "outputId": "3b20a95f-30d4-4f00-df52-fecaf971e08e"
   },
   "outputs": [
    {
     "name": "stdout",
     "output_type": "stream",
     "text": [
      "street no 123 \n",
      "  karachi \n",
      "  PAKISTAN\n"
     ]
    }
   ],
   "source": [
    "street = \"street no 123\"\n",
    "city = \"karachi\"\n",
    "country = \"PAKISTAN\"\n",
    "\n",
    "address = f\"{street} \\n  {city} \\n  {country}\"\n",
    "print(address)"
   ]
  },
  {
   "cell_type": "markdown",
   "metadata": {
    "id": "VidHsb9a3LD0"
   },
   "source": [
    "Create a variable to store the string \"Earth revolves around the sun\"\n",
    "Print \"revolves\" using slice operator\n",
    "Print \"sun\" using negative index\n"
   ]
  },
  {
   "cell_type": "code",
   "execution_count": null,
   "metadata": {
    "colab": {
     "base_uri": "https://localhost:8080/",
     "height": 36
    },
    "executionInfo": {
     "elapsed": 13,
     "status": "ok",
     "timestamp": 1692550579144,
     "user": {
      "displayName": "Mohsin Raza",
      "userId": "02069157311777040551"
     },
     "user_tz": -300
    },
    "id": "B4EYeVYw289t",
    "outputId": "af5616d4-e446-43ae-a55b-d1d83d5e6037"
   },
   "outputs": [
    {
     "data": {
      "application/vnd.google.colaboratory.intrinsic+json": {
       "type": "string"
      },
      "text/plain": [
       "'revolves'"
      ]
     },
     "execution_count": 16,
     "metadata": {},
     "output_type": "execute_result"
    }
   ],
   "source": [
    "sentence =  \"Earth revolves around the sun\"\n",
    "sentence[6:14]"
   ]
  },
  {
   "cell_type": "code",
   "execution_count": null,
   "metadata": {
    "colab": {
     "base_uri": "https://localhost:8080/",
     "height": 36
    },
    "executionInfo": {
     "elapsed": 22,
     "status": "ok",
     "timestamp": 1692550583633,
     "user": {
      "displayName": "Mohsin Raza",
      "userId": "02069157311777040551"
     },
     "user_tz": -300
    },
    "id": "ZawV_G8D3eW4",
    "outputId": "c22dde41-8f33-4990-e917-866ffa581118"
   },
   "outputs": [
    {
     "data": {
      "application/vnd.google.colaboratory.intrinsic+json": {
       "type": "string"
      },
      "text/plain": [
       "'sun'"
      ]
     },
     "execution_count": 17,
     "metadata": {},
     "output_type": "execute_result"
    }
   ],
   "source": [
    "sentence[-3:]"
   ]
  },
  {
   "cell_type": "code",
   "execution_count": null,
   "metadata": {
    "colab": {
     "base_uri": "https://localhost:8080/"
    },
    "executionInfo": {
     "elapsed": 7,
     "status": "ok",
     "timestamp": 1692551497644,
     "user": {
      "displayName": "Mohsin Raza",
      "userId": "02069157311777040551"
     },
     "user_tz": -300
    },
    "id": "y6roXg2c4FAV",
    "outputId": "c810f658-bc7b-42ab-8333-c9cf66c85b8b"
   },
   "outputs": [
    {
     "name": "stdout",
     "output_type": "stream",
     "text": [
      "['spider man', 'docter strange', 'iron man', 'captain america']\n"
     ]
    }
   ],
   "source": [
    "heros=['spider man','thor','hulk','iron man','captain america']\n",
    "heros[1:3] = [\"docter strange\"]\n",
    "print(heros)"
   ]
  },
  {
   "cell_type": "markdown",
   "metadata": {
    "id": "-xF7Vf-L79CZ"
   },
   "source": [
    "india = [\"mumbai\", \"banglore\", \"chennai\", \"delhi\"]\n",
    "pakistan = [\"lahore\",\"karachi\",\"islamabad\"]\n",
    "bangladesh = [\"dhaka\", \"khulna\", \"rangpur\"]\n",
    "Write a program that asks user to enter a city name and it should tell which country the city belongs to\n",
    "Write a program that asks user to enter two cities and it tells you if they both are in same country or not. For example if I enter mumbai and chennai, it will print \"Both cities are in India\" but if I enter mumbai and dhaka it should print \"They don't belong to same country\""
   ]
  },
  {
   "cell_type": "code",
   "execution_count": null,
   "metadata": {
    "colab": {
     "base_uri": "https://localhost:8080/"
    },
    "executionInfo": {
     "elapsed": 11051,
     "status": "ok",
     "timestamp": 1692551830391,
     "user": {
      "displayName": "Mohsin Raza",
      "userId": "02069157311777040551"
     },
     "user_tz": -300
    },
    "id": "zXXsRi4o6iRB",
    "outputId": "9698c68d-10fe-41be-d8a5-75e370ec53f6"
   },
   "outputs": [
    {
     "name": "stdout",
     "output_type": "stream",
     "text": [
      "Enter your city name :khulna\n",
      "khulna is in bangladesh\n"
     ]
    }
   ],
   "source": [
    "india = [\"mumbai\", \"banglore\", \"chennai\", \"delhi\"]\n",
    "pakistan = [\"lahore\",\"karachi\",\"islamabad\"]\n",
    "bangladesh = [\"dhaka\", \"khulna\", \"rangpur\"]\n",
    "city = input(\"Enter your city name :\")\n",
    "if city in india:\n",
    "  print(f\"{city} is in india\")\n",
    "elif city in pakistan:\n",
    "  print(f\"{city} is in pakistan\")\n",
    "else :\n",
    "  print(f\"{city} is in bangladesh\")"
   ]
  },
  {
   "cell_type": "markdown",
   "metadata": {
    "id": "se5DyUZ59EX-"
   },
   "source": [
    "Write a python program that can tell you if your sugar is normal or not. Normal fasting level sugar range is 80 to 100.\n",
    "Ask user to enter his fasting sugar level\n",
    "If it is below 80 to 100 range then print that sugar is low\n",
    "If it is above 100 then print that it is high otherwise print that it is normal"
   ]
  },
  {
   "cell_type": "code",
   "execution_count": null,
   "metadata": {
    "colab": {
     "base_uri": "https://localhost:8080/"
    },
    "executionInfo": {
     "elapsed": 3130,
     "status": "ok",
     "timestamp": 1692552260081,
     "user": {
      "displayName": "Mohsin Raza",
      "userId": "02069157311777040551"
     },
     "user_tz": -300
    },
    "id": "pK1dA77m8ymz",
    "outputId": "88d05bd8-c073-4c4a-a9d0-d7c6afe30c64"
   },
   "outputs": [
    {
     "name": "stdout",
     "output_type": "stream",
     "text": [
      "Enter your fasting sugar level :60\n",
      "60 your sugar level is low\n"
     ]
    }
   ],
   "source": [
    "fasCting_level = int(input(\"Enter your fasting sugar level :\"))\n",
    "if (fasCting_level<80):\n",
    "  print(f\"{fasCting_level} your sugar level is low\")\n",
    "elif (fasCting_level>100):\n",
    "  print(f\"{fasCting_level} your sugar level is high\")\n",
    "else:\n",
    "  print(f\"{fasCting_level} your sugar level is normal\")"
   ]
  },
  {
   "cell_type": "code",
   "execution_count": null,
   "metadata": {
    "colab": {
     "base_uri": "https://localhost:8080/"
    },
    "executionInfo": {
     "elapsed": 11,
     "status": "ok",
     "timestamp": 1692553020693,
     "user": {
      "displayName": "Mohsin Raza",
      "userId": "02069157311777040551"
     },
     "user_tz": -300
    },
    "id": "fwPxrFJy-bAx",
    "outputId": "891d98e3-6694-4ff4-d48b-84b0974b8fb8"
   },
   "outputs": [
    {
     "name": "stdout",
     "output_type": "stream",
     "text": [
      "heads occure : 4\n"
     ]
    }
   ],
   "source": [
    "result = [\"heads\",\"tails\",\"tails\",\"heads\",\"tails\",\"heads\",\"heads\",\"tails\",\"tails\",\"tails\"]\n",
    "num = 0\n",
    "for item in result:\n",
    "  if item == \"heads\":\n",
    "    num += 1\n",
    "print(\"heads occure :\",num)"
   ]
  },
  {
   "cell_type": "code",
   "execution_count": null,
   "metadata": {
    "colab": {
     "base_uri": "https://localhost:8080/"
    },
    "executionInfo": {
     "elapsed": 4631,
     "status": "ok",
     "timestamp": 1692553734336,
     "user": {
      "displayName": "Mohsin Raza",
      "userId": "02069157311777040551"
     },
     "user_tz": -300
    },
    "id": "qkWvMdC1AiKh",
    "outputId": "01344709-da77-48dd-e422-51edfd5006e0"
   },
   "outputs": [
    {
     "name": "stdout",
     "output_type": "stream",
     "text": [
      "Enter expence amount :3000\n",
      "3000\n",
      "3000\n",
      "3000\n",
      "no expence money\n",
      "3000\n"
     ]
    }
   ],
   "source": [
    "month_list = [\"January\", \"February\", \"March\", \"April\", \"May\"]\n",
    "expense_list = [2340, 2500, 2100, 3100, 2980]\n",
    "\n",
    "n = len(expense_list)\n",
    "month = -1\n",
    "e = int(input(\"Enter expence amount :\"))\n",
    "for i in range (n):\n",
    "  if e == expense_list[i]:\n",
    "    month = i\n",
    "    break\n",
    "  elif e> expense_list[i]:\n",
    "\n",
    "    print(e)\n",
    "  else:\n",
    "    print(\"no expence money\")"
   ]
  },
  {
   "cell_type": "code",
   "execution_count": null,
   "metadata": {
    "colab": {
     "base_uri": "https://localhost:8080/"
    },
    "executionInfo": {
     "elapsed": 6387,
     "status": "ok",
     "timestamp": 1692555294996,
     "user": {
      "displayName": "Mohsin Raza",
      "userId": "02069157311777040551"
     },
     "user_tz": -300
    },
    "id": "r_k7tmfoEO6u",
    "outputId": "15e7e05a-abd5-4258-f0e1-01d35fe98341"
   },
   "outputs": [
    {
     "name": "stdout",
     "output_type": "stream",
     "text": [
      "Enter expense amount: 2350\n",
      "You spent 2350 in May\n"
     ]
    }
   ],
   "source": [
    "month_list = [\"January\", \"February\", \"March\", \"April\", \"May\"]\n",
    "expense_list = [2340, 2500, 2100, 3100, 2980]\n",
    "e = int(input(\"Enter expense amount: \"))\n",
    "\n",
    "for i in range(len(expense_list)):\n",
    "    if e == expense_list[i]:\n",
    "        expence = expense_list[i]\n",
    "        break\n",
    "    elif e > expense_list[i]:\n",
    "      print(f'You spent {e} in {month_list[month]}')\n",
    "      break\n",
    "    else:\n",
    "     print(f'You didn\\'t spend {e} in any month')\n",
    "     break"
   ]
  },
  {
   "cell_type": "code",
   "execution_count": null,
   "metadata": {
    "colab": {
     "base_uri": "https://localhost:8080/"
    },
    "executionInfo": {
     "elapsed": 11,
     "status": "ok",
     "timestamp": 1692556109644,
     "user": {
      "displayName": "Mohsin Raza",
      "userId": "02069157311777040551"
     },
     "user_tz": -300
    },
    "id": "jBjdYDWoFGiK",
    "outputId": "b309fa83-60ef-4d99-c9ba-68c23e3e522c"
   },
   "outputs": [
    {
     "name": "stdout",
     "output_type": "stream",
     "text": [
      "[1, 9, 25, 49, 81]\n"
     ]
    }
   ],
   "source": [
    "odd_sq = []\n",
    "for num in range(10):\n",
    "  if num %2== 0:\n",
    "    continue\n",
    "  else:\n",
    "    odd_sq.append(num*num)\n",
    "print(odd_sq)"
   ]
  },
  {
   "cell_type": "code",
   "execution_count": null,
   "metadata": {
    "colab": {
     "base_uri": "https://localhost:8080/"
    },
    "executionInfo": {
     "elapsed": 4,
     "status": "ok",
     "timestamp": 1692555981043,
     "user": {
      "displayName": "Mohsin Raza",
      "userId": "02069157311777040551"
     },
     "user_tz": -300
    },
    "id": "w3fDIXx_Kdax",
    "outputId": "d20a7620-a869-432a-c561-3afaaac75f75"
   },
   "outputs": [
    {
     "data": {
      "text/plain": [
       "[1, 9, 25, 49, 81]"
      ]
     },
     "execution_count": 55,
     "metadata": {},
     "output_type": "execute_result"
    }
   ],
   "source": [
    "[num*num for num in range(11) if num%2 !=0 ]\n"
   ]
  },
  {
   "cell_type": "code",
   "execution_count": null,
   "metadata": {
    "colab": {
     "base_uri": "https://localhost:8080/"
    },
    "executionInfo": {
     "elapsed": 433,
     "status": "ok",
     "timestamp": 1692557528503,
     "user": {
      "displayName": "Mohsin Raza",
      "userId": "02069157311777040551"
     },
     "user_tz": -300
    },
    "id": "U7TWsqSIMqlJ",
    "outputId": "8ba76ae8-7a8e-4672-f552-955cefcb2a05"
   },
   "outputs": [
    {
     "name": "stdout",
     "output_type": "stream",
     "text": [
      "*\n",
      "**\n",
      "***\n",
      "****\n",
      "*****\n"
     ]
    }
   ],
   "source": [
    "for i in range(1,6):\n",
    "  a = ''\n",
    "  for j in range(i):\n",
    "   a += \"*\"\n",
    "  print(a)"
   ]
  },
  {
   "cell_type": "markdown",
   "metadata": {
    "id": "laPsE-j4T-7O"
   },
   "source": [
    "Lets say you are running a 5 km race. Write a program that,\n",
    "\n",
    "Upon completing each 1 km asks you \"are you tired?\"\n",
    "If you reply \"yes\" then it should break and print \"you didn't finish the race\"\n",
    "If you reply \"no\" then it should continue and ask \"are you tired\" on every km\n",
    "If you finish all 5 km then it should print congratulations message"
   ]
  },
  {
   "cell_type": "code",
   "execution_count": null,
   "metadata": {
    "colab": {
     "base_uri": "https://localhost:8080/"
    },
    "executionInfo": {
     "elapsed": 14750,
     "status": "ok",
     "timestamp": 1692558892232,
     "user": {
      "displayName": "Mohsin Raza",
      "userId": "02069157311777040551"
     },
     "user_tz": -300
    },
    "id": "DCQC6GTjSPWb",
    "outputId": "fa0a3f28-49f5-40bb-c2be-01c1e399c86f"
   },
   "outputs": [
    {
     "name": "stdout",
     "output_type": "stream",
     "text": [
      "you run 1 km\n",
      "are you tired :no\n",
      "you run 2 km\n",
      "are you tired :no\n",
      "you run 3 km\n",
      "are you tired :yes\n",
      "you didn't finish the race\n",
      "\n",
      "\n",
      "congratulation you complete the race\n"
     ]
    }
   ],
   "source": [
    "for i in range(5):\n",
    "  print(f\"you run {i+1} km\")\n",
    "  tired = input(\"are you tired :\")\n",
    "  if tired == \"yes\" or tired == \"Yes\":\n",
    "    print(\"you didn't finish the race\")\n",
    "    break\n",
    "  elif tired ==\"no\" or tired == \"No\":\n",
    "    continue\n",
    "    print(\"are you tired :\")\n",
    "\n",
    "print(end='\\n\\n')\n",
    "print(\"congratulation you complete the race\")\n"
   ]
  },
  {
   "cell_type": "code",
   "execution_count": null,
   "metadata": {
    "colab": {
     "base_uri": "https://localhost:8080/"
    },
    "executionInfo": {
     "elapsed": 11,
     "status": "ok",
     "timestamp": 1692573431368,
     "user": {
      "displayName": "Mohsin Raza",
      "userId": "02069157311777040551"
     },
     "user_tz": -300
    },
    "id": "kYH-HsAJWKWr",
    "outputId": "32327c4e-1120-4f24-9083-fdec9354c2ce"
   },
   "outputs": [
    {
     "name": "stdout",
     "output_type": "stream",
     "text": [
      "29  is not a prime number\n"
     ]
    }
   ],
   "source": [
    "num = 29\n",
    "flag = False\n",
    "if num ==1:\n",
    "  print({num},\" is not a prime number\")\n",
    "elif num>1:\n",
    "  for i in range(2, num):\n",
    "    if (num % i ==0):\n",
    "      flag = True\n",
    "      break\n",
    "\n",
    "  if flag:\n",
    "    print(num, \"is a prime number\")\n",
    "  else:\n",
    "    print(num, \" is not a prime number\")"
   ]
  },
  {
   "cell_type": "code",
   "execution_count": null,
   "metadata": {
    "colab": {
     "base_uri": "https://localhost:8080/"
    },
    "executionInfo": {
     "elapsed": 9,
     "status": "ok",
     "timestamp": 1692573594338,
     "user": {
      "displayName": "Mohsin Raza",
      "userId": "02069157311777040551"
     },
     "user_tz": -300
    },
    "id": "ozgv5NdWNVSd",
    "outputId": "c915ead5-c952-4132-92be-de794fcb0a9f"
   },
   "outputs": [
    {
     "name": "stdout",
     "output_type": "stream",
     "text": [
      "4 2\n"
     ]
    }
   ],
   "source": [
    "x = 2\n",
    "y = 4\n",
    "temp = x\n",
    "x= y\n",
    "y= temp\n",
    "print(x,y)"
   ]
  },
  {
   "cell_type": "code",
   "execution_count": null,
   "metadata": {
    "colab": {
     "base_uri": "https://localhost:8080/"
    },
    "executionInfo": {
     "elapsed": 13,
     "status": "ok",
     "timestamp": 1692573684807,
     "user": {
      "displayName": "Mohsin Raza",
      "userId": "02069157311777040551"
     },
     "user_tz": -300
    },
    "id": "Kl2dvj_gP0Bb",
    "outputId": "ced26d2c-22fb-43bb-d739-ef86617199c8"
   },
   "outputs": [
    {
     "name": "stdout",
     "output_type": "stream",
     "text": [
      "3\n"
     ]
    }
   ],
   "source": [
    "import random\n",
    "print(random.randint(0,9))"
   ]
  },
  {
   "cell_type": "code",
   "execution_count": null,
   "metadata": {
    "colab": {
     "base_uri": "https://localhost:8080/"
    },
    "executionInfo": {
     "elapsed": 471,
     "status": "ok",
     "timestamp": 1692574618332,
     "user": {
      "displayName": "Mohsin Raza",
      "userId": "02069157311777040551"
     },
     "user_tz": -300
    },
    "id": "NkLk6qimQNFA",
    "outputId": "93307072-44af-4dcc-8229-74d60b5ee620"
   },
   "outputs": [
    {
     "name": "stdout",
     "output_type": "stream",
     "text": [
      "Prime numbers between 900 and 1000 are:\n",
      "907\n",
      "911\n",
      "919\n",
      "929\n",
      "937\n",
      "941\n",
      "947\n",
      "953\n",
      "967\n",
      "971\n",
      "977\n",
      "983\n",
      "991\n",
      "997\n"
     ]
    }
   ],
   "source": [
    "lower = 900\n",
    "upper = 1000\n",
    "print(\"Prime numbers between\", lower, \"and\", upper, \"are:\")\n",
    "\n",
    "for num in range(lower, upper + 1):\n",
    "  if num>1:\n",
    "    for i in range(2, num):\n",
    "      if (num%i==0):\n",
    "        break\n",
    "    else:\n",
    "      print(num)"
   ]
  },
  {
   "cell_type": "code",
   "execution_count": null,
   "metadata": {
    "colab": {
     "base_uri": "https://localhost:8080/"
    },
    "executionInfo": {
     "elapsed": 10,
     "status": "ok",
     "timestamp": 1692574909356,
     "user": {
      "displayName": "Mohsin Raza",
      "userId": "02069157311777040551"
     },
     "user_tz": -300
    },
    "id": "vwvcBTHlUw3p",
    "outputId": "704d674a-a408-4c7c-a436-e90492e00818"
   },
   "outputs": [
    {
     "name": "stdout",
     "output_type": "stream",
     "text": [
      "The sum is 136\n"
     ]
    }
   ],
   "source": [
    "num = 16\n",
    "if num < 0:\n",
    "   print(\"Enter a positive number\")\n",
    "else:\n",
    "   sum = 0\n",
    "   while(num > 0):\n",
    "       sum += num\n",
    "       num -= 1\n",
    "   print(\"The sum is\", sum)"
   ]
  },
  {
   "cell_type": "markdown",
   "metadata": {
    "id": "tYwIiqEo5APw"
   },
   "source": [
    "Write a function called calculate_area that takes base and height as an input and returns and area of a triangle. Equation of an area of a triangle is,"
   ]
  },
  {
   "cell_type": "code",
   "execution_count": null,
   "metadata": {
    "id": "vqwQsPXoUw01"
   },
   "outputs": [],
   "source": [
    "def areatriangle(b,h):\n",
    "  area = 0.5 * b * h\n",
    "  return area"
   ]
  },
  {
   "cell_type": "code",
   "execution_count": null,
   "metadata": {
    "colab": {
     "base_uri": "https://localhost:8080/"
    },
    "executionInfo": {
     "elapsed": 46,
     "status": "ok",
     "timestamp": 1692718685998,
     "user": {
      "displayName": "Mohsin Raza",
      "userId": "02069157311777040551"
     },
     "user_tz": -300
    },
    "id": "6falTmP45NDL",
    "outputId": "408e5bb5-44c6-4634-817b-85f4eb09d1a8"
   },
   "outputs": [
    {
     "data": {
      "text/plain": [
       "25.0"
      ]
     },
     "execution_count": 3,
     "metadata": {},
     "output_type": "execute_result"
    }
   ],
   "source": [
    "areatriangle(5,10)"
   ]
  },
  {
   "cell_type": "markdown",
   "metadata": {
    "id": "jmQN7NFd6Bve"
   },
   "source": [
    "Modify above function to take third parameter shape type. It can be either \"triangle\" or \"rectangle\". Based on shape type it will calculate area. Equation of rectangle's area is,"
   ]
  },
  {
   "cell_type": "code",
   "execution_count": null,
   "metadata": {
    "id": "gk0TNrp56GKH"
   },
   "outputs": [],
   "source": [
    "def area(b,h,shape = \"triangle\"):\n",
    "  if shape == \"triangle\":\n",
    "    area = 0.5 * b * h\n",
    "    #print(\"Area  of triangle is :\", area)\n",
    "  elif shape == \"rectangle\":\n",
    "    area = b*h\n",
    "    #print(\"Area  of rectangle is :\", area)\n",
    "  else:\n",
    "    print(\"Error! shape is not triangle nor rectangle\")\n",
    "    area = None\n",
    "  return (f\"area of {shape} is :{area}\")\n",
    "#rectangle area=length*width"
   ]
  },
  {
   "cell_type": "code",
   "execution_count": null,
   "metadata": {
    "colab": {
     "base_uri": "https://localhost:8080/",
     "height": 53
    },
    "executionInfo": {
     "elapsed": 21,
     "status": "ok",
     "timestamp": 1692722252485,
     "user": {
      "displayName": "Mohsin Raza",
      "userId": "02069157311777040551"
     },
     "user_tz": -300
    },
    "id": "C0FhwesnCk9c",
    "outputId": "7bfb81d5-1f3a-42a2-bbdb-c3a22fe342b2"
   },
   "outputs": [
    {
     "name": "stdout",
     "output_type": "stream",
     "text": [
      "Error! shape is not triangle nor rectangle\n"
     ]
    },
    {
     "data": {
      "application/vnd.google.colaboratory.intrinsic+json": {
       "type": "string"
      },
      "text/plain": [
       "'area of square is :None'"
      ]
     },
     "execution_count": 32,
     "metadata": {},
     "output_type": "execute_result"
    }
   ],
   "source": [
    "area(5,4,\"square\")"
   ]
  },
  {
   "cell_type": "markdown",
   "metadata": {
    "id": "Tl-5C8GHHLH5"
   },
   "source": [
    "Write a function called print_pattern that takes integer number as an argument and prints following pattern if input number is 3,"
   ]
  },
  {
   "cell_type": "code",
   "execution_count": null,
   "metadata": {
    "id": "sAlimW8LIH8V"
   },
   "outputs": [],
   "source": [
    "def print_pattern(n):\n",
    "  for i in range(n+1):\n",
    "    print(\"*\" * i)"
   ]
  },
  {
   "cell_type": "code",
   "execution_count": null,
   "metadata": {
    "colab": {
     "base_uri": "https://localhost:8080/"
    },
    "executionInfo": {
     "elapsed": 7,
     "status": "ok",
     "timestamp": 1692723904817,
     "user": {
      "displayName": "Mohsin Raza",
      "userId": "02069157311777040551"
     },
     "user_tz": -300
    },
    "id": "hFTpj0ytMzV-",
    "outputId": "120fe3f5-9d79-4eb8-effe-6ff9fdb52213"
   },
   "outputs": [
    {
     "name": "stdout",
     "output_type": "stream",
     "text": [
      "\n",
      "*\n",
      "**\n",
      "***\n"
     ]
    }
   ],
   "source": [
    "print_pattern(3)"
   ]
  },
  {
   "cell_type": "code",
   "execution_count": null,
   "metadata": {
    "colab": {
     "base_uri": "https://localhost:8080/"
    },
    "executionInfo": {
     "elapsed": 12,
     "status": "ok",
     "timestamp": 1692724076464,
     "user": {
      "displayName": "Mohsin Raza",
      "userId": "02069157311777040551"
     },
     "user_tz": -300
    },
    "id": "IdNDPX3FM2mx",
    "outputId": "54a84fd2-3716-4965-a560-31fd3fce4643"
   },
   "outputs": [
    {
     "name": "stdout",
     "output_type": "stream",
     "text": [
      "\n",
      "*\n",
      "**\n",
      "***\n",
      "****\n"
     ]
    }
   ],
   "source": [
    "print_pattern(4)"
   ]
  },
  {
   "cell_type": "markdown",
   "metadata": {
    "id": "CZ_m7vLBFNn4"
   },
   "source": [
    "You are given following list of stocks and their prices in last 3 days,\n",
    "\n",
    "Stock\tPrices\n",
    "info\t[600,630,620]\n",
    "ril\t[1430,1490,1567]\n",
    "mtl\t[234,180,160]\n",
    "Write a program that asks user for operation. Value of operations could be,\n",
    "print: When user enters print it should print following,\n",
    "info ==> [600, 630, 620] ==> avg:  616.67\n",
    "ril ==> [1430, 1490, 1567] ==> avg:  1495.67\n",
    "mtl ==> [234, 180, 160] ==> avg:  191.33"
   ]
  },
  {
   "cell_type": "code",
   "execution_count": null,
   "metadata": {
    "id": "bUSf8U4MN5uX"
   },
   "outputs": [],
   "source": [
    "info = [600,630,620]\n",
    "ril = [1430,1490,1567]\n",
    "mtl = [234,180,160]\n"
   ]
  },
  {
   "cell_type": "markdown",
   "metadata": {
    "id": "lVTHI08oHLD_"
   },
   "source": [
    "Create a Dictionary which contains the Binary values mapping with numbers found in the below integer and binary and save it in binary_dict.\n",
    "Example :\n",
    "\n",
    "    integer = [0, 1, 2, 3, 4]\n",
    "    binary = [\"0\", \"1\", \"10\", \"11\", \"100\"]\n",
    "    binary_dict = {0:\"0\", 1:\"1\", 2:\"10\", 3: \"11\", 4:\"100\"}\n",
    "  \n",
    "  decimal_num = int(binary_num, 2)"
   ]
  },
  {
   "cell_type": "code",
   "execution_count": null,
   "metadata": {
    "id": "G3WhlFNDHMH8"
   },
   "outputs": [],
   "source": [
    "binary_dict = {}\n",
    "integer = [0, 1, 2, 3, 4]\n",
    "binary = [0, 1, 10, 11, 100]\n",
    "#binary_dict = {0:\"0\", 1:\"1\", 2:\"10\", 3: \"11\", 4:\"100\"}\n",
    "\n",
    "for i in integer:\n",
    "    if i == 0 or i == 1:\n",
    "      binary_dict = i\n",
    "    if i > 1:\n",
    "     a = int(i, 2)\n",
    "     binary_dict.append(i)\n",
    "for j in binary:\n",
    "    if j == 0 or j == 1:\n",
    "      binary_dict.append(j)\n",
    "    if j > 1:\n",
    "     a = int(j, 2)\n",
    "     binary_dict.append(j)\n",
    "print(binary_dict)"
   ]
  },
  {
   "cell_type": "code",
   "execution_count": null,
   "metadata": {
    "id": "FYyRitMqjQLh"
   },
   "outputs": [],
   "source": [
    "def fabioncci(n):\n",
    "  if (n<=1):\n",
    "      value = n\n",
    "  else:\n",
    "      #value = (n-1) + (n-2)\n",
    "      print(f\"fabioncci of {n} is :\",end =' ')\n",
    "  return (n-1) + (n-2)"
   ]
  },
  {
   "cell_type": "code",
   "execution_count": null,
   "metadata": {
    "colab": {
     "base_uri": "https://localhost:8080/"
    },
    "executionInfo": {
     "elapsed": 6,
     "status": "ok",
     "timestamp": 1692814844225,
     "user": {
      "displayName": "Mohsin Raza",
      "userId": "02069157311777040551"
     },
     "user_tz": -300
    },
    "id": "muvNB1MBj9Tz",
    "outputId": "a896517d-3e61-4bb0-de74-a990d0dc887f"
   },
   "outputs": [
    {
     "name": "stdout",
     "output_type": "stream",
     "text": [
      "fabioncci of 5 is : "
     ]
    },
    {
     "data": {
      "text/plain": [
       "7"
      ]
     },
     "execution_count": 29,
     "metadata": {},
     "output_type": "execute_result"
    }
   ],
   "source": [
    "fabioncci(5)"
   ]
  },
  {
   "cell_type": "code",
   "execution_count": null,
   "metadata": {
    "id": "-J3_Vo_2kUPc"
   },
   "outputs": [],
   "source": [
    "def factorial(n):\n",
    "  if (n<=1):\n",
    "    return n\n",
    "  else:\n",
    "    return n * factorial(n-1)"
   ]
  },
  {
   "cell_type": "code",
   "execution_count": null,
   "metadata": {
    "colab": {
     "base_uri": "https://localhost:8080/"
    },
    "executionInfo": {
     "elapsed": 10,
     "status": "ok",
     "timestamp": 1692815729030,
     "user": {
      "displayName": "Mohsin Raza",
      "userId": "02069157311777040551"
     },
     "user_tz": -300
    },
    "id": "p1JE8StdonMl",
    "outputId": "29ff858c-3a2a-4ee3-cfcd-dbfb7284de0a"
   },
   "outputs": [
    {
     "data": {
      "text/plain": [
       "24"
      ]
     },
     "execution_count": 55,
     "metadata": {},
     "output_type": "execute_result"
    }
   ],
   "source": [
    "factorial(4)"
   ]
  },
  {
   "cell_type": "code",
   "execution_count": null,
   "metadata": {
    "colab": {
     "base_uri": "https://localhost:8080/"
    },
    "executionInfo": {
     "elapsed": 383,
     "status": "ok",
     "timestamp": 1692828908653,
     "user": {
      "displayName": "Mohsin Raza",
      "userId": "02069157311777040551"
     },
     "user_tz": -300
    },
    "id": "vVwaFi9cq95l",
    "outputId": "b62d7b99-93ef-46bb-ad10-4398775d6a94"
   },
   "outputs": [
    {
     "name": "stdout",
     "output_type": "stream",
     "text": [
      "10 5\n"
     ]
    }
   ],
   "source": [
    "a = 5\n",
    "b = 10\n",
    "temp = a\n",
    "a= b\n",
    "b= temp\n",
    "print(a,b)"
   ]
  },
  {
   "cell_type": "code",
   "execution_count": null,
   "metadata": {
    "colab": {
     "base_uri": "https://localhost:8080/",
     "height": 210
    },
    "executionInfo": {
     "elapsed": 3858,
     "status": "error",
     "timestamp": 1692828986822,
     "user": {
      "displayName": "Mohsin Raza",
      "userId": "02069157311777040551"
     },
     "user_tz": -300
    },
    "id": "x99h1k9Ddzio",
    "outputId": "9ef98863-0d40-4d11-d876-d0e58706fe92"
   },
   "outputs": [
    {
     "name": "stdout",
     "output_type": "stream",
     "text": [
      "enter 4 digit number:4353\n"
     ]
    },
    {
     "ename": "AttributeError",
     "evalue": "ignored",
     "output_type": "error",
     "traceback": [
      "\u001b[0;31m---------------------------------------------------------------------------\u001b[0m",
      "\u001b[0;31mAttributeError\u001b[0m                            Traceback (most recent call last)",
      "\u001b[0;32m<ipython-input-2-f6ab74f27c06>\u001b[0m in \u001b[0;36m<cell line: 2>\u001b[0;34m()\u001b[0m\n\u001b[1;32m      1\u001b[0m \u001b[0mnum\u001b[0m \u001b[0;34m=\u001b[0m \u001b[0minput\u001b[0m\u001b[0;34m(\u001b[0m\u001b[0;34m\"enter 4 digit number:\"\u001b[0m\u001b[0;34m)\u001b[0m\u001b[0;34m\u001b[0m\u001b[0;34m\u001b[0m\u001b[0m\n\u001b[0;32m----> 2\u001b[0;31m \u001b[0mnum\u001b[0m\u001b[0;34m.\u001b[0m\u001b[0mreverse\u001b[0m\u001b[0;34m(\u001b[0m\u001b[0;34m)\u001b[0m\u001b[0;34m\u001b[0m\u001b[0;34m\u001b[0m\u001b[0m\n\u001b[0m",
      "\u001b[0;31mAttributeError\u001b[0m: 'str' object has no attribute 'reverse'"
     ]
    }
   ],
   "source": [
    "num = input(\"enter 4 digit number:\")\n",
    "num.reverse()"
   ]
  },
  {
   "cell_type": "markdown",
   "metadata": {
    "id": "hlL43B2CjKjt"
   },
   "source": [
    "Write a program that will reverse a four digit number.Also it checks\n",
    "whether the reverse is true.\n",
    "\n",
    "\n",
    "\n",
    "\n",
    "\n"
   ]
  },
  {
   "cell_type": "code",
   "execution_count": null,
   "metadata": {
    "colab": {
     "base_uri": "https://localhost:8080/"
    },
    "executionInfo": {
     "elapsed": 4118,
     "status": "ok",
     "timestamp": 1692832737974,
     "user": {
      "displayName": "Mohsin Raza",
      "userId": "02069157311777040551"
     },
     "user_tz": -300
    },
    "id": "M6IF6YAioUMl",
    "outputId": "9999b4c9-4873-4b81-abca-9ae407375b39"
   },
   "outputs": [
    {
     "name": "stdout",
     "output_type": "stream",
     "text": [
      "Enter a four-digit number: 1001\n",
      "The number is a palindrome.\n"
     ]
    }
   ],
   "source": [
    "def reverse_number(num):\n",
    "    reversed_num = 0\n",
    "    while num > 0:\n",
    "        remainder = num % 10\n",
    "        reversed_num = reversed_num * 10 + remainder\n",
    "        num //= 10\n",
    "    return reversed_num\n",
    "while True:\n",
    "    num = input(\"Enter a four-digit number: \")\n",
    "    if num.isdigit() and len(num) == 4:\n",
    "        num = int(num)\n",
    "        break\n",
    "    else:\n",
    "        print(\"Invalid input! Please enter a valid four-digit number.\")\n",
    "reversed_num = reverse_number(num)\n",
    "if num == reversed_num:\n",
    "    print(\"The number is a palindrome.\")\n",
    "else:\n",
    "    print(\"The number is not a palindrome.\")"
   ]
  },
  {
   "cell_type": "markdown",
   "metadata": {
    "id": "OCk03Sa5sllT"
   },
   "source": [
    "In this program, the reverse_number function uses a while loop to reverse the digits of the input number. It repeatedly takes the last digit of the number using the modulo operator %, appends it to the reversed_num variable, and then removes the last digit from the input number using integer division //.\n",
    "\n",
    "After reversing the number, the program checks if the reversed number is equal to the original number. If they are equal, the number is a palindrome; otherwise, it's not.\n",
    "\n",
    "In this version of the program, the user is prompted to enter a number. The program then checks whether the input consists only of digits and has a length of 4. If the input is valid, it is converted to an integer and the loop is exited. If the input is invalid, an error message is displayed, and the loop continues until a valid input is provided. This ensures that the user enters only a four-digit number."
   ]
  },
  {
   "cell_type": "markdown",
   "metadata": {
    "id": "rQOtzlchw3wC"
   },
   "source": [
    "9. Write a program that take a user inputr of three angles and will\n",
    "find out whether it can form a triangle or not."
   ]
  },
  {
   "cell_type": "code",
   "execution_count": null,
   "metadata": {
    "colab": {
     "base_uri": "https://localhost:8080/"
    },
    "executionInfo": {
     "elapsed": 22180,
     "status": "ok",
     "timestamp": 1692833287475,
     "user": {
      "displayName": "Mohsin Raza",
      "userId": "02069157311777040551"
     },
     "user_tz": -300
    },
    "id": "0Lsr-cpVqsbO",
    "outputId": "63365006-7be5-4172-ec93-448da825b132"
   },
   "outputs": [
    {
     "name": "stdout",
     "output_type": "stream",
     "text": [
      "enter first angle :18.5\n",
      "enter second angle :100\n",
      "enter third angle :61.5\n",
      "The angles can form a triangle.\n"
     ]
    }
   ],
   "source": [
    "angle1 = float(input(\"enter first angle :\"))\n",
    "angle2 = float(input(\"enter second angle :\"))\n",
    "angle3 = float(input(\"enter third angle :\"))\n",
    "if angle1 + angle2 + angle3 == 180:\n",
    "    print(\"The angles can form a triangle.\")\n",
    "else:\n",
    "    print(\"The angles cannot form a triangle.\")"
   ]
  },
  {
   "cell_type": "markdown",
   "metadata": {
    "id": "XrK9vodWw5v0"
   },
   "source": [
    "10. Write a program that will take user input of cost price and selling\n",
    "price and determines whether its a loss or a profit"
   ]
  },
  {
   "cell_type": "code",
   "execution_count": null,
   "metadata": {
    "colab": {
     "base_uri": "https://localhost:8080/"
    },
    "executionInfo": {
     "elapsed": 6190,
     "status": "ok",
     "timestamp": 1692833750023,
     "user": {
      "displayName": "Mohsin Raza",
      "userId": "02069157311777040551"
     },
     "user_tz": -300
    },
    "id": "MmJJ9V7LubRI",
    "outputId": "44b7f358-1a41-42a6-f66d-4d5a7446e72a"
   },
   "outputs": [
    {
     "name": "stdout",
     "output_type": "stream",
     "text": [
      "enter purchase price :100\n",
      "enter selling price :100\n",
      "no profit\n"
     ]
    }
   ],
   "source": [
    "cost = float(input(\"enter purchase price :\"))\n",
    "sell = float(input(\"enter selling price :\"))\n",
    "if cost < sell:\n",
    "  profit = sell - cost\n",
    "  print(f\"you got {profit}RS profit\")\n",
    "elif cost == sell:\n",
    "  print(\"no profit\")\n",
    "else:\n",
    "  loss = cost - sell\n",
    "  print(f\"you got {loss}Rs loss\")"
   ]
  },
  {
   "cell_type": "markdown",
   "metadata": {
    "id": "YJIuvV3yxAJL"
   },
   "source": [
    "13. Write a program that will tell whether the given number is divisible\n",
    "by 3 & 6."
   ]
  },
  {
   "cell_type": "code",
   "execution_count": null,
   "metadata": {
    "colab": {
     "base_uri": "https://localhost:8080/"
    },
    "executionInfo": {
     "elapsed": 3279,
     "status": "ok",
     "timestamp": 1692889057605,
     "user": {
      "displayName": "Mohsin Raza",
      "userId": "02069157311777040551"
     },
     "user_tz": -300
    },
    "id": "SOhwD6f-v61i",
    "outputId": "2186c5f5-3f3c-4889-b982-3004a440b3f9"
   },
   "outputs": [
    {
     "name": "stdout",
     "output_type": "stream",
     "text": [
      "enter a number :15\n",
      "given number is divisible by 3 but not divisible by 6\n"
     ]
    }
   ],
   "source": [
    "num = int(input(\"enter a number :\"))\n",
    "if (num %3 ==0) and (num %6 ==0):\n",
    "  print(\"given number is divisible by 3 & 6\")\n",
    "elif num %3 ==0:\n",
    "  print(\"given number is divisible by 3 but not divisible by 6\")\n",
    "elif num%6 ==0:\n",
    "  print(\"given number is divisible by 6 but not divisible by 3\")\n",
    "else:\n",
    "  print(\"given number is not divisible by 3 & 6\")"
   ]
  },
  {
   "cell_type": "markdown",
   "metadata": {
    "id": "yaXrsSP2xaBY"
   },
   "source": [
    "41. Write a program to print the following pattern\n",
    "*\n",
    "**\n",
    "***\n",
    "****\n",
    "*****\n",
    "\n",
    "> Indented block\n",
    "\n"
   ]
  },
  {
   "cell_type": "code",
   "execution_count": null,
   "metadata": {
    "colab": {
     "base_uri": "https://localhost:8080/"
    },
    "executionInfo": {
     "elapsed": 4,
     "status": "ok",
     "timestamp": 1692883498724,
     "user": {
      "displayName": "Mohsin Raza",
      "userId": "02069157311777040551"
     },
     "user_tz": -300
    },
    "id": "VnJ1-4YBt2oq",
    "outputId": "ef378f0c-9919-4e42-bd56-5acdf1a36aa5"
   },
   "outputs": [
    {
     "name": "stdout",
     "output_type": "stream",
     "text": [
      "\n",
      "*\n",
      "**\n",
      "***\n",
      "****\n"
     ]
    }
   ],
   "source": [
    "a = 0\n",
    "while a<5:\n",
    "    s = \"*\" * a\n",
    "    print(s)\n",
    "    a +=1"
   ]
  },
  {
   "cell_type": "markdown",
   "metadata": {
    "id": "B994TNZDuG7r"
   },
   "source": [
    "42.Write a program to print the following pattern\n",
    "*\n",
    "**\n",
    "***\n",
    "**\n",
    "*"
   ]
  },
  {
   "cell_type": "code",
   "execution_count": null,
   "metadata": {
    "colab": {
     "base_uri": "https://localhost:8080/"
    },
    "executionInfo": {
     "elapsed": 397,
     "status": "ok",
     "timestamp": 1692836307345,
     "user": {
      "displayName": "Mohsin Raza",
      "userId": "02069157311777040551"
     },
     "user_tz": -300
    },
    "id": "xtpB0KN2yO5Q",
    "outputId": "1d61c2c5-1028-46fe-bdd9-32112068ed9c"
   },
   "outputs": [
    {
     "name": "stdout",
     "output_type": "stream",
     "text": [
      "\n",
      "*\n",
      "**\n",
      "***\n",
      "**\n",
      "*\n"
     ]
    }
   ],
   "source": [
    "for num in range(0,4,1):\n",
    "  #s = \"*\"\n",
    "  print(\"*\" * num)\n",
    "for num in range(2,0,-1):\n",
    "  #s = \"*\"\n",
    "  print(\"*\" * num)"
   ]
  },
  {
   "cell_type": "code",
   "execution_count": null,
   "metadata": {
    "colab": {
     "base_uri": "https://localhost:8080/"
    },
    "executionInfo": {
     "elapsed": 11,
     "status": "ok",
     "timestamp": 1692883205384,
     "user": {
      "displayName": "Mohsin Raza",
      "userId": "02069157311777040551"
     },
     "user_tz": -300
    },
    "id": "5QJYPnjG32zR",
    "outputId": "dde98e52-e620-4a8a-b983-ff592ccb96c6"
   },
   "outputs": [
    {
     "name": "stdout",
     "output_type": "stream",
     "text": [
      "*\n",
      "**\n",
      "***\n",
      "**\n",
      "*\n"
     ]
    }
   ],
   "source": [
    "n = 3\n",
    "for i in range(1, n + 1):\n",
    "    print('*' * i)\n",
    "for i in range(n -1, 0, -1):\n",
    "    print('*' * i)"
   ]
  },
  {
   "cell_type": "code",
   "execution_count": null,
   "metadata": {
    "colab": {
     "base_uri": "https://localhost:8080/"
    },
    "executionInfo": {
     "elapsed": 410,
     "status": "ok",
     "timestamp": 1692835787938,
     "user": {
      "displayName": "Mohsin Raza",
      "userId": "02069157311777040551"
     },
     "user_tz": -300
    },
    "id": "C0gHpHr-2H7k",
    "outputId": "104273ca-17a4-4ac6-b97d-204972af04a3"
   },
   "outputs": [
    {
     "name": "stdout",
     "output_type": "stream",
     "text": [
      "***\n",
      "**\n",
      "*\n"
     ]
    }
   ],
   "source": [
    "a = 3\n",
    "while a>0:\n",
    "    s = \"*\" * a\n",
    "    print(s)\n",
    "    a -=1"
   ]
  },
  {
   "cell_type": "markdown",
   "metadata": {
    "id": "Dkw8uamstbIA"
   },
   "source": [
    "Write a program to print the following pattern\n",
    " *\n",
    " * * *\n",
    " * * * * *\n",
    " * * * * * * *\n",
    "* * * * * * * * *"
   ]
  },
  {
   "cell_type": "code",
   "execution_count": null,
   "metadata": {
    "colab": {
     "base_uri": "https://localhost:8080/"
    },
    "executionInfo": {
     "elapsed": 410,
     "status": "ok",
     "timestamp": 1692888575002,
     "user": {
      "displayName": "Mohsin Raza",
      "userId": "02069157311777040551"
     },
     "user_tz": -300
    },
    "id": "7I4O2m6sy8kb",
    "outputId": "974de7a9-c7b9-4540-9cdc-948cfde4e3cf"
   },
   "outputs": [
    {
     "name": "stdout",
     "output_type": "stream",
     "text": [
      "*\n",
      "***\n",
      "*****\n",
      "*******\n",
      "*********\n"
     ]
    }
   ],
   "source": [
    "a = 1\n",
    "while a<=10:\n",
    "   if a % 2 != 0:\n",
    "      s = \"*\" * a\n",
    "      print(s)\n",
    "   a +=1"
   ]
  },
  {
   "cell_type": "markdown",
   "metadata": {
    "id": "BaXUC6oQta6S"
   },
   "source": [
    "44. Write a program to print the following pattern\n",
    "1\n",
    "1 2 1\n",
    "1 2 3 2 1\n",
    "1 2 3 4 3 2 1\n",
    "1 2 3 4 5 4 3 2 1"
   ]
  },
  {
   "cell_type": "code",
   "execution_count": null,
   "metadata": {
    "colab": {
     "base_uri": "https://localhost:8080/"
    },
    "executionInfo": {
     "elapsed": 382,
     "status": "ok",
     "timestamp": 1692885475439,
     "user": {
      "displayName": "Mohsin Raza",
      "userId": "02069157311777040551"
     },
     "user_tz": -300
    },
    "id": "3Mv7HNMWy-MZ",
    "outputId": "31ec1173-3986-44e5-a936-b4889b3a1079"
   },
   "outputs": [
    {
     "name": "stdout",
     "output_type": "stream",
     "text": [
      "1 \n",
      "1 2 1 \n",
      "1 2 3 2 1 \n",
      "1 2 3 4 3 2 1 \n",
      "1 2 3 4 5 4 3 2 1 \n"
     ]
    }
   ],
   "source": [
    "for i in range(1,6):\n",
    "  for j in range(i):\n",
    "    j += 1\n",
    "    print(j, end =' ')\n",
    "  for j in range(i-1,0,-1):\n",
    "    print(j, end =' ')\n",
    "  print()"
   ]
  },
  {
   "cell_type": "markdown",
   "metadata": {
    "id": "wafJi6Z4taoR"
   },
   "source": [
    "45. Write a program to print the following pattern\n",
    "1\n",
    "2 3\n",
    "4 5 6\n",
    "7 8 9 10\n"
   ]
  },
  {
   "cell_type": "code",
   "execution_count": null,
   "metadata": {
    "colab": {
     "base_uri": "https://localhost:8080/"
    },
    "executionInfo": {
     "elapsed": 10,
     "status": "ok",
     "timestamp": 1692884576244,
     "user": {
      "displayName": "Mohsin Raza",
      "userId": "02069157311777040551"
     },
     "user_tz": -300
    },
    "id": "6mcF_RO-5oUE",
    "outputId": "e63f7edb-69fa-4201-cf35-3ad0aa776a13"
   },
   "outputs": [
    {
     "name": "stdout",
     "output_type": "stream",
     "text": [
      "1 \n",
      "2 3 \n",
      "4 5 6 \n",
      "7 8 9 10 \n"
     ]
    }
   ],
   "source": [
    "n=1\n",
    "for i in range(1,5):\n",
    "    for j in range(i):\n",
    "        print(n, end=\" \")\n",
    "        n += 1\n",
    "    print()"
   ]
  },
  {
   "cell_type": "code",
   "execution_count": null,
   "metadata": {
    "colab": {
     "base_uri": "https://localhost:8080/"
    },
    "executionInfo": {
     "elapsed": 11423,
     "status": "ok",
     "timestamp": 1692891559456,
     "user": {
      "displayName": "Mohsin Raza",
      "userId": "02069157311777040551"
     },
     "user_tz": -300
    },
    "id": "m1bmnit0wB_H",
    "outputId": "c052cfe5-97a8-4786-db39-8df76cdfff97"
   },
   "outputs": [
    {
     "name": "stdout",
     "output_type": "stream",
     "text": [
      "Enter number :15\n",
      "Enter number :18\n",
      "Enter number :12\n",
      "Enter number :0\n",
      "Sum of given 3 numbers is : 45.0\n",
      "total numbers given : 3\n",
      "average of 45.0 is: 15.0\n"
     ]
    }
   ],
   "source": [
    "sum = 0\n",
    "length = 0\n",
    "while True:\n",
    "  num = float(input(\"Enter number :\"))\n",
    "\n",
    "  if num == 0:\n",
    "    break\n",
    "  sum += num\n",
    "  length +=1\n",
    "print(f\"Sum of given {length} numbers is :\",sum)\n",
    "print(\"total numbers given :\",length)\n",
    "if sum == 0:\n",
    "    print(\"no number entered\")\n",
    "else:\n",
    "    average = sum/length\n",
    "    print(f\"average of {sum} is:\",average)"
   ]
  },
  {
   "cell_type": "markdown",
   "metadata": {
    "id": "0nwtgO-7E7nO"
   },
   "source": [
    "a = 48, b = 18\n",
    "\n",
    "48 ÷ 18 = 2 remainder 12\n",
    "a = 18, b = 12\n",
    "\n",
    "18 ÷ 12 = 1 remainder 6\n",
    "a = 12, b = 6\n",
    "\n",
    "12 ÷ 6 = 2 remainder 0\n",
    "a = 6, b = 0\n",
    "\n",
    "Since the remainder is now 0, the GCD is 6.\n"
   ]
  },
  {
   "cell_type": "code",
   "execution_count": null,
   "metadata": {
    "colab": {
     "base_uri": "https://localhost:8080/"
    },
    "executionInfo": {
     "elapsed": 19553,
     "status": "ok",
     "timestamp": 1692905787274,
     "user": {
      "displayName": "Mohsin Raza",
      "userId": "02069157311777040551"
     },
     "user_tz": -300
    },
    "id": "qKw5VpsbIOwG",
    "outputId": "102f00db-f388-4d15-c4a5-350487b7b044"
   },
   "outputs": [
    {
     "name": "stdout",
     "output_type": "stream",
     "text": [
      "Enter the numerator: 5\n",
      "Enter the denominator: 15\n",
      "Simplified fraction: 1/3\n"
     ]
    }
   ],
   "source": [
    "def gcd(a, b):\n",
    "    while b:\n",
    "        a, b = b, a % b\n",
    "    return a\n",
    "\n",
    "numerator = int(input(\"Enter the numerator: \"))\n",
    "denominator = int(input(\"Enter the denominator: \"))\n",
    "\n",
    "# Calculate the greatest common divisor (GCD)\n",
    "common_divisor = gcd(numerator, denominator)\n",
    "\n",
    "# Simplify the fraction\n",
    "simplified_numerator = numerator // common_divisor\n",
    "simplified_denominator = denominator // common_divisor\n",
    "\n",
    "print(f\"Simplified fraction: {simplified_numerator}/{simplified_denominator}\")\n"
   ]
  },
  {
   "cell_type": "code",
   "execution_count": null,
   "metadata": {
    "colab": {
     "base_uri": "https://localhost:8080/"
    },
    "executionInfo": {
     "elapsed": 4831,
     "status": "ok",
     "timestamp": 1692905979100,
     "user": {
      "displayName": "Mohsin Raza",
      "userId": "02069157311777040551"
     },
     "user_tz": -300
    },
    "id": "nzbTotHwCxO2",
    "outputId": "1ce8848b-6df4-4148-e5cc-4445cc145f9b"
   },
   "outputs": [
    {
     "name": "stdout",
     "output_type": "stream",
     "text": [
      "Enter the numerator: 5\n",
      "Enter the denominator: 15\n",
      "5\n"
     ]
    }
   ],
   "source": [
    "def gcd(a, b):\n",
    "    while b:\n",
    "        a, b = b, a % b\n",
    "    return a\n",
    "\n",
    "numerator = int(input(\"Enter the numerator: \"))\n",
    "denominator = int(input(\"Enter the denominator: \"))\n",
    "\n",
    "# Calculate the greatest common divisor (GCD)\n",
    "print(common_divisor)"
   ]
  },
  {
   "cell_type": "code",
   "execution_count": null,
   "metadata": {
    "id": "ntRPr7c9DY7Z"
   },
   "outputs": [],
   "source": [
    "def gcd(a, b):\n",
    "    while b:\n",
    "        a, b = b, a % b\n",
    "    return a"
   ]
  },
  {
   "cell_type": "code",
   "execution_count": null,
   "metadata": {
    "colab": {
     "base_uri": "https://localhost:8080/"
    },
    "executionInfo": {
     "elapsed": 6,
     "status": "ok",
     "timestamp": 1692906619257,
     "user": {
      "displayName": "Mohsin Raza",
      "userId": "02069157311777040551"
     },
     "user_tz": -300
    },
    "id": "AQ1UbB4ZFnuI",
    "outputId": "af39015c-7f25-42b6-b7da-ae1490f850c0"
   },
   "outputs": [
    {
     "data": {
      "text/plain": [
       "5"
      ]
     },
     "execution_count": 17,
     "metadata": {},
     "output_type": "execute_result"
    }
   ],
   "source": [
    "gcd(5, 15)"
   ]
  },
  {
   "cell_type": "code",
   "execution_count": null,
   "metadata": {
    "id": "D7FjW-eSekHn"
   },
   "outputs": [],
   "source": [
    "def squarecube(num):\n",
    "  s = num **2\n",
    "  c = num **3\n",
    "  return s,c"
   ]
  },
  {
   "cell_type": "code",
   "execution_count": null,
   "metadata": {
    "colab": {
     "base_uri": "https://localhost:8080/"
    },
    "executionInfo": {
     "elapsed": 19,
     "status": "ok",
     "timestamp": 1694976717359,
     "user": {
      "displayName": "Mohsin Raza",
      "userId": "02069157311777040551"
     },
     "user_tz": -300
    },
    "id": "haAutyzWe9Ua",
    "outputId": "f790d918-14e4-4bc6-c15e-d7481faef0a2"
   },
   "outputs": [
    {
     "data": {
      "text/plain": [
       "(25, 125)"
      ]
     },
     "execution_count": 3,
     "metadata": {},
     "output_type": "execute_result"
    }
   ],
   "source": [
    "squarecube(5)"
   ]
  },
  {
   "cell_type": "code",
   "execution_count": null,
   "metadata": {
    "id": "j66wMwmCfCrB"
   },
   "outputs": [],
   "source": [
    "def factorial(n):\n",
    "  if (n == 0):\n",
    "    return 1\n",
    "  else:\n",
    "    return n * factorial(n-1)"
   ]
  },
  {
   "cell_type": "code",
   "execution_count": null,
   "metadata": {
    "colab": {
     "base_uri": "https://localhost:8080/"
    },
    "executionInfo": {
     "elapsed": 12,
     "status": "ok",
     "timestamp": 1694977527709,
     "user": {
      "displayName": "Mohsin Raza",
      "userId": "02069157311777040551"
     },
     "user_tz": -300
    },
    "id": "TcssVYmriAFz",
    "outputId": "2d3c5bb1-b539-40c9-d574-fde898332a4b"
   },
   "outputs": [
    {
     "name": "stdout",
     "output_type": "stream",
     "text": [
      "120\n"
     ]
    }
   ],
   "source": [
    "print(factorial(5))"
   ]
  },
  {
   "cell_type": "code",
   "execution_count": null,
   "metadata": {
    "colab": {
     "base_uri": "https://localhost:8080/"
    },
    "executionInfo": {
     "elapsed": 3699,
     "status": "ok",
     "timestamp": 1694977616099,
     "user": {
      "displayName": "Mohsin Raza",
      "userId": "02069157311777040551"
     },
     "user_tz": -300
    },
    "id": "oZldk4saiItr",
    "outputId": "6f0fd5c5-e32f-4e9b-9c7c-60331f0f3c5a"
   },
   "outputs": [
    {
     "name": "stdout",
     "output_type": "stream",
     "text": [
      "Enter a number :6\n",
      "720\n"
     ]
    }
   ],
   "source": [
    "num = int(input(\"Enter a number :\"))\n",
    "result = factorial(num)\n",
    "print(result)"
   ]
  },
  {
   "cell_type": "code",
   "execution_count": null,
   "metadata": {
    "colab": {
     "base_uri": "https://localhost:8080/"
    },
    "executionInfo": {
     "elapsed": 553,
     "status": "ok",
     "timestamp": 1694980366661,
     "user": {
      "displayName": "Mohsin Raza",
      "userId": "02069157311777040551"
     },
     "user_tz": -300
    },
    "id": "kuTFwQVYidPb",
    "outputId": "aed4934f-b4ee-44ff-c177-21409682000b"
   },
   "outputs": [
    {
     "name": "stdout",
     "output_type": "stream",
     "text": [
      "{'n1': 0, 'n2': 0, 'n3': 0}\n"
     ]
    }
   ],
   "source": [
    "dic ={}.fromkeys([\"n1\",\"n2\",\"n3\"],0)\n",
    "print(dic)"
   ]
  },
  {
   "cell_type": "code",
   "execution_count": null,
   "metadata": {
    "colab": {
     "base_uri": "https://localhost:8080/"
    },
    "executionInfo": {
     "elapsed": 6,
     "status": "ok",
     "timestamp": 1694980369118,
     "user": {
      "displayName": "Mohsin Raza",
      "userId": "02069157311777040551"
     },
     "user_tz": -300
    },
    "id": "x3-584h1i3Od",
    "outputId": "b582db8b-63eb-4c19-f3ae-226afd977083"
   },
   "outputs": [
    {
     "name": "stdout",
     "output_type": "stream",
     "text": [
      "n1\n",
      "n2\n",
      "n3\n"
     ]
    }
   ],
   "source": [
    "for key in dic:\n",
    "  print(key)"
   ]
  },
  {
   "cell_type": "code",
   "execution_count": null,
   "metadata": {
    "colab": {
     "base_uri": "https://localhost:8080/"
    },
    "executionInfo": {
     "elapsed": 7,
     "status": "ok",
     "timestamp": 1694980371005,
     "user": {
      "displayName": "Mohsin Raza",
      "userId": "02069157311777040551"
     },
     "user_tz": -300
    },
    "id": "HXCnkWn_i8-p",
    "outputId": "a47a0e9d-0a46-4224-dfa5-58edef11e12f"
   },
   "outputs": [
    {
     "name": "stdout",
     "output_type": "stream",
     "text": [
      "n1\n",
      "n2\n",
      "n3\n"
     ]
    }
   ],
   "source": [
    "for value in dic:\n",
    "  print(value)"
   ]
  },
  {
   "cell_type": "code",
   "execution_count": null,
   "metadata": {
    "colab": {
     "base_uri": "https://localhost:8080/"
    },
    "executionInfo": {
     "elapsed": 9,
     "status": "ok",
     "timestamp": 1694980372821,
     "user": {
      "displayName": "Mohsin Raza",
      "userId": "02069157311777040551"
     },
     "user_tz": -300
    },
    "id": "v5MoOxDdjH08",
    "outputId": "6b1846af-461b-4aa7-d82f-8b1897550eaa"
   },
   "outputs": [
    {
     "name": "stdout",
     "output_type": "stream",
     "text": [
      "dict_items([('n1', 0), ('n2', 0), ('n3', 0)])\n"
     ]
    }
   ],
   "source": [
    "print(dic.items())"
   ]
  },
  {
   "cell_type": "code",
   "execution_count": null,
   "metadata": {
    "colab": {
     "base_uri": "https://localhost:8080/"
    },
    "executionInfo": {
     "elapsed": 7,
     "status": "ok",
     "timestamp": 1694980374381,
     "user": {
      "displayName": "Mohsin Raza",
      "userId": "02069157311777040551"
     },
     "user_tz": -300
    },
    "id": "wZB4UUtajQGF",
    "outputId": "4464f094-78a8-43bc-94bc-431c36c8af70"
   },
   "outputs": [
    {
     "name": "stdout",
     "output_type": "stream",
     "text": [
      "dict_keys(['n1', 'n2', 'n3'])\n"
     ]
    }
   ],
   "source": [
    "print(dic.keys())"
   ]
  },
  {
   "cell_type": "code",
   "execution_count": null,
   "metadata": {
    "colab": {
     "base_uri": "https://localhost:8080/"
    },
    "executionInfo": {
     "elapsed": 13,
     "status": "ok",
     "timestamp": 1694980376375,
     "user": {
      "displayName": "Mohsin Raza",
      "userId": "02069157311777040551"
     },
     "user_tz": -300
    },
    "id": "_SdkRRCKj_R4",
    "outputId": "81070f26-92a8-4d08-c408-c82c7823d0c5"
   },
   "outputs": [
    {
     "name": "stdout",
     "output_type": "stream",
     "text": [
      "dict_values([0, 0, 0])\n"
     ]
    }
   ],
   "source": [
    "print(dic.values())"
   ]
  },
  {
   "cell_type": "code",
   "execution_count": null,
   "metadata": {
    "colab": {
     "base_uri": "https://localhost:8080/"
    },
    "executionInfo": {
     "elapsed": 7,
     "status": "ok",
     "timestamp": 1694980377843,
     "user": {
      "displayName": "Mohsin Raza",
      "userId": "02069157311777040551"
     },
     "user_tz": -300
    },
    "id": "FgWq7lyEkjsZ",
    "outputId": "382d9b94-9cf0-422c-95d0-bda11f48df22"
   },
   "outputs": [
    {
     "name": "stdout",
     "output_type": "stream",
     "text": [
      "('n1', 0)\n",
      "('n2', 0)\n",
      "('n3', 0)\n"
     ]
    }
   ],
   "source": [
    "for pair in dic.items():\n",
    "  print(pair)"
   ]
  },
  {
   "cell_type": "code",
   "execution_count": null,
   "metadata": {
    "colab": {
     "base_uri": "https://localhost:8080/"
    },
    "executionInfo": {
     "elapsed": 6,
     "status": "ok",
     "timestamp": 1694980380646,
     "user": {
      "displayName": "Mohsin Raza",
      "userId": "02069157311777040551"
     },
     "user_tz": -300
    },
    "id": "KbYaCTMXkIzj",
    "outputId": "61d394bd-9a19-47f7-b28a-15d43c5ed98d"
   },
   "outputs": [
    {
     "name": "stdout",
     "output_type": "stream",
     "text": [
      "['__class__', '__class_getitem__', '__contains__', '__delattr__', '__delitem__', '__dir__', '__doc__', '__eq__', '__format__', '__ge__', '__getattribute__', '__getitem__', '__gt__', '__hash__', '__init__', '__init_subclass__', '__ior__', '__iter__', '__le__', '__len__', '__lt__', '__ne__', '__new__', '__or__', '__reduce__', '__reduce_ex__', '__repr__', '__reversed__', '__ror__', '__setattr__', '__setitem__', '__sizeof__', '__str__', '__subclasshook__', 'clear', 'copy', 'fromkeys', 'get', 'items', 'keys', 'pop', 'popitem', 'setdefault', 'update', 'values']\n"
     ]
    }
   ],
   "source": [
    "d = {}\n",
    "print(dir(d))"
   ]
  },
  {
   "cell_type": "code",
   "execution_count": null,
   "metadata": {
    "colab": {
     "base_uri": "https://localhost:8080/"
    },
    "executionInfo": {
     "elapsed": 11,
     "status": "ok",
     "timestamp": 1694980382181,
     "user": {
      "displayName": "Mohsin Raza",
      "userId": "02069157311777040551"
     },
     "user_tz": -300
    },
    "id": "m_0OePtjkSzD",
    "outputId": "a4e9adbd-5464-4778-ea14-ad5e35581532"
   },
   "outputs": [
    {
     "data": {
      "text/plain": [
       "{'n1': 0, 'n2': 0, 'n3': 0}"
      ]
     },
     "execution_count": 45,
     "metadata": {},
     "output_type": "execute_result"
    }
   ],
   "source": [
    "dic"
   ]
  },
  {
   "cell_type": "code",
   "execution_count": null,
   "metadata": {
    "colab": {
     "base_uri": "https://localhost:8080/"
    },
    "executionInfo": {
     "elapsed": 7,
     "status": "ok",
     "timestamp": 1694980384043,
     "user": {
      "displayName": "Mohsin Raza",
      "userId": "02069157311777040551"
     },
     "user_tz": -300
    },
    "id": "aF7_xM83liI5",
    "outputId": "ad296b6c-57e8-4afb-88a6-fa0d37ec0c26"
   },
   "outputs": [
    {
     "name": "stdout",
     "output_type": "stream",
     "text": [
      "the dic n1 is 0\n",
      "the dic n2 is 0\n",
      "the dic n3 is 0\n"
     ]
    }
   ],
   "source": [
    "for k,v in dic.items():\n",
    "  print(\"the dic \" + k + \" is \" + str(v))"
   ]
  },
  {
   "cell_type": "code",
   "execution_count": null,
   "metadata": {
    "colab": {
     "base_uri": "https://localhost:8080/"
    },
    "executionInfo": {
     "elapsed": 10,
     "status": "ok",
     "timestamp": 1694980386847,
     "user": {
      "displayName": "Mohsin Raza",
      "userId": "02069157311777040551"
     },
     "user_tz": -300
    },
    "id": "ixl8XWJ4lnQA",
    "outputId": "77277b3a-8448-4a19-df70-4ec56b6c9495"
   },
   "outputs": [
    {
     "data": {
      "text/plain": [
       "{'n1': 0, 'n2': 0, 'n3': 0}"
      ]
     },
     "execution_count": 47,
     "metadata": {},
     "output_type": "execute_result"
    }
   ],
   "source": [
    "dic"
   ]
  },
  {
   "cell_type": "code",
   "execution_count": null,
   "metadata": {
    "id": "PpMcbCgjpyDu"
   },
   "outputs": [],
   "source": [
    "dic['n4'] = 0"
   ]
  },
  {
   "cell_type": "code",
   "execution_count": null,
   "metadata": {
    "colab": {
     "base_uri": "https://localhost:8080/"
    },
    "executionInfo": {
     "elapsed": 10,
     "status": "ok",
     "timestamp": 1694980396731,
     "user": {
      "displayName": "Mohsin Raza",
      "userId": "02069157311777040551"
     },
     "user_tz": -300
    },
    "id": "EfqwlRZQp4qf",
    "outputId": "6fc1bbfd-1e54-471f-a462-50430c45c773"
   },
   "outputs": [
    {
     "data": {
      "text/plain": [
       "{'n1': 0, 'n2': 0, 'n3': 0, 'n4': 0}"
      ]
     },
     "execution_count": 49,
     "metadata": {},
     "output_type": "execute_result"
    }
   ],
   "source": [
    "dic"
   ]
  },
  {
   "cell_type": "code",
   "execution_count": null,
   "metadata": {
    "id": "da-vwdPBslyV"
   },
   "outputs": [],
   "source": [
    "del dic[\"n4\"]"
   ]
  },
  {
   "cell_type": "code",
   "execution_count": null,
   "metadata": {
    "colab": {
     "base_uri": "https://localhost:8080/"
    },
    "executionInfo": {
     "elapsed": 8,
     "status": "ok",
     "timestamp": 1694980491196,
     "user": {
      "displayName": "Mohsin Raza",
      "userId": "02069157311777040551"
     },
     "user_tz": -300
    },
    "id": "dQ5dSTJ5ta8S",
    "outputId": "3ce37733-2719-4bea-d948-f1311e876eca"
   },
   "outputs": [
    {
     "data": {
      "text/plain": [
       "{'n1': 0, 'n2': 0, 'n3': 0}"
      ]
     },
     "execution_count": 51,
     "metadata": {},
     "output_type": "execute_result"
    }
   ],
   "source": [
    "dic"
   ]
  },
  {
   "cell_type": "code",
   "execution_count": null,
   "metadata": {
    "id": "FA7o3HGetb1l"
   },
   "outputs": [],
   "source": [
    "poped_item = dic.pop(\"n3\")"
   ]
  },
  {
   "cell_type": "code",
   "execution_count": null,
   "metadata": {
    "colab": {
     "base_uri": "https://localhost:8080/"
    },
    "executionInfo": {
     "elapsed": 10,
     "status": "ok",
     "timestamp": 1694980669654,
     "user": {
      "displayName": "Mohsin Raza",
      "userId": "02069157311777040551"
     },
     "user_tz": -300
    },
    "id": "nIlsyp8vtket",
    "outputId": "c4c28618-c6c3-4a0d-8949-73df70eee77e"
   },
   "outputs": [
    {
     "data": {
      "text/plain": [
       "{'n1': 0, 'n2': 0}"
      ]
     },
     "execution_count": 53,
     "metadata": {},
     "output_type": "execute_result"
    }
   ],
   "source": [
    "dic"
   ]
  },
  {
   "cell_type": "code",
   "execution_count": null,
   "metadata": {
    "colab": {
     "base_uri": "https://localhost:8080/",
     "height": 175
    },
    "executionInfo": {
     "elapsed": 21,
     "status": "error",
     "timestamp": 1694980695150,
     "user": {
      "displayName": "Mohsin Raza",
      "userId": "02069157311777040551"
     },
     "user_tz": -300
    },
    "id": "qjXBWHhkuHeq",
    "outputId": "7f48fcc8-48cb-47d1-f61c-a1400021f2cf"
   },
   "outputs": [
    {
     "ename": "KeyError",
     "evalue": "ignored",
     "output_type": "error",
     "traceback": [
      "\u001b[0;31m---------------------------------------------------------------------------\u001b[0m",
      "\u001b[0;31mKeyError\u001b[0m                                  Traceback (most recent call last)",
      "\u001b[0;32m<ipython-input-54-e986f936d182>\u001b[0m in \u001b[0;36m<cell line: 1>\u001b[0;34m()\u001b[0m\n\u001b[0;32m----> 1\u001b[0;31m \u001b[0mpoped_item\u001b[0m \u001b[0;34m=\u001b[0m \u001b[0mdic\u001b[0m\u001b[0;34m.\u001b[0m\u001b[0mpop\u001b[0m\u001b[0;34m(\u001b[0m\u001b[0;34m\"n4\"\u001b[0m\u001b[0;34m)\u001b[0m\u001b[0;34m\u001b[0m\u001b[0;34m\u001b[0m\u001b[0m\n\u001b[0m",
      "\u001b[0;31mKeyError\u001b[0m: 'n4'"
     ]
    }
   ],
   "source": [
    "poped_item = dic.pop(\"n4\")"
   ]
  },
  {
   "cell_type": "code",
   "execution_count": null,
   "metadata": {
    "id": "zbf-gBXHuN7j"
   },
   "outputs": [],
   "source": [
    "removed_item = dic.popitem()"
   ]
  },
  {
   "cell_type": "code",
   "execution_count": null,
   "metadata": {
    "colab": {
     "base_uri": "https://localhost:8080/"
    },
    "executionInfo": {
     "elapsed": 8,
     "status": "ok",
     "timestamp": 1694980761370,
     "user": {
      "displayName": "Mohsin Raza",
      "userId": "02069157311777040551"
     },
     "user_tz": -300
    },
    "id": "JQ0MGX1guZph",
    "outputId": "d445db36-5b66-4828-fc1b-fae30c02cd6e"
   },
   "outputs": [
    {
     "name": "stdout",
     "output_type": "stream",
     "text": [
      "('n2', 0)\n"
     ]
    }
   ],
   "source": [
    "print(removed_item)"
   ]
  },
  {
   "cell_type": "code",
   "execution_count": null,
   "metadata": {
    "colab": {
     "base_uri": "https://localhost:8080/"
    },
    "executionInfo": {
     "elapsed": 12,
     "status": "ok",
     "timestamp": 1694980770428,
     "user": {
      "displayName": "Mohsin Raza",
      "userId": "02069157311777040551"
     },
     "user_tz": -300
    },
    "id": "uWrb2t6mueAc",
    "outputId": "a1d4284e-2c5e-4482-83f1-b9dfc9821055"
   },
   "outputs": [
    {
     "data": {
      "text/plain": [
       "{'n1': 0}"
      ]
     },
     "execution_count": 57,
     "metadata": {},
     "output_type": "execute_result"
    }
   ],
   "source": [
    "dic"
   ]
  },
  {
   "cell_type": "code",
   "execution_count": null,
   "metadata": {
    "id": "V9k7kLylugNA"
   },
   "outputs": [],
   "source": [
    "student = {\n",
    "    'std1':{'name':'mohsin', 'age':21},\n",
    "    'std2':{'name':'ahsan', 'age':23},\n",
    "    'std3':{'name':'ali', 'age':25}\n",
    "}"
   ]
  },
  {
   "cell_type": "code",
   "execution_count": null,
   "metadata": {
    "colab": {
     "base_uri": "https://localhost:8080/"
    },
    "executionInfo": {
     "elapsed": 10,
     "status": "ok",
     "timestamp": 1694982730462,
     "user": {
      "displayName": "Mohsin Raza",
      "userId": "02069157311777040551"
     },
     "user_tz": -300
    },
    "id": "-iHpkLra1972",
    "outputId": "5f2fb477-3c50-48b9-f7d5-345231c70692"
   },
   "outputs": [
    {
     "name": "stdout",
     "output_type": "stream",
     "text": [
      "ali\n"
     ]
    }
   ],
   "source": [
    "print(student['std3']['name'])"
   ]
  },
  {
   "cell_type": "code",
   "execution_count": null,
   "metadata": {
    "id": "TBojS_iL0C7C"
   },
   "outputs": [],
   "source": [
    "student = {}\n",
    "student['std1'] = {'name':'mohsin', 'age':21}\n",
    "student['std2'] = {'name':'ahsan', 'age':23}\n",
    "student['std3'] = {'name':'ali', 'age':25}"
   ]
  },
  {
   "cell_type": "code",
   "execution_count": null,
   "metadata": {
    "colab": {
     "base_uri": "https://localhost:8080/"
    },
    "executionInfo": {
     "elapsed": 7,
     "status": "ok",
     "timestamp": 1694982734958,
     "user": {
      "displayName": "Mohsin Raza",
      "userId": "02069157311777040551"
     },
     "user_tz": -300
    },
    "id": "pQPU9mpZ1bNy",
    "outputId": "1eeab9ad-24f1-498c-b409-ac34015650f6"
   },
   "outputs": [
    {
     "name": "stdout",
     "output_type": "stream",
     "text": [
      "21\n"
     ]
    }
   ],
   "source": [
    "print(student['std1']['age'])"
   ]
  },
  {
   "cell_type": "code",
   "execution_count": null,
   "metadata": {
    "id": "DXI3kElq138g"
   },
   "outputs": [],
   "source": [
    "def message(name, greeting=\"hello\"):\n",
    "  print(f\"{greeting} {name}!\")"
   ]
  },
  {
   "cell_type": "code",
   "execution_count": null,
   "metadata": {
    "colab": {
     "base_uri": "https://localhost:8080/"
    },
    "executionInfo": {
     "elapsed": 570,
     "status": "ok",
     "timestamp": 1694984219679,
     "user": {
      "displayName": "Mohsin Raza",
      "userId": "02069157311777040551"
     },
     "user_tz": -300
    },
    "id": "HJTW9LLV7kgB",
    "outputId": "b4f9c761-14bc-422c-d1d7-4be712756a1f"
   },
   "outputs": [
    {
     "name": "stdout",
     "output_type": "stream",
     "text": [
      "hello mohsin!\n"
     ]
    }
   ],
   "source": [
    "message(\"mohsin\")"
   ]
  },
  {
   "cell_type": "code",
   "execution_count": null,
   "metadata": {
    "colab": {
     "base_uri": "https://localhost:8080/"
    },
    "executionInfo": {
     "elapsed": 8,
     "status": "ok",
     "timestamp": 1694984245119,
     "user": {
      "displayName": "Mohsin Raza",
      "userId": "02069157311777040551"
     },
     "user_tz": -300
    },
    "id": "g7CEsPxv7nHp",
    "outputId": "ed499548-30de-41f5-eaf9-395f941cd601"
   },
   "outputs": [
    {
     "name": "stdout",
     "output_type": "stream",
     "text": [
      "hi mohsin!\n"
     ]
    }
   ],
   "source": [
    "message(\"mohsin\", \"hi\")"
   ]
  },
  {
   "cell_type": "code",
   "execution_count": null,
   "metadata": {
    "id": "Zj9HecoJ7wje"
   },
   "outputs": [],
   "source": [
    "def Calculate_total_cost(price, tax_rate=0.4 ,discount=0):\n",
    "  total_cost = price +(price * tax_rate) - discount\n",
    "  return total_cost"
   ]
  },
  {
   "cell_type": "code",
   "execution_count": null,
   "metadata": {
    "colab": {
     "base_uri": "https://localhost:8080/"
    },
    "executionInfo": {
     "elapsed": 9,
     "status": "ok",
     "timestamp": 1694984587917,
     "user": {
      "displayName": "Mohsin Raza",
      "userId": "02069157311777040551"
     },
     "user_tz": -300
    },
    "id": "hxf1ZcWj81PK",
    "outputId": "85c6d7ed-69d5-4e01-af6f-8dc2265f3bbb"
   },
   "outputs": [
    {
     "data": {
      "text/plain": [
       "140.0"
      ]
     },
     "execution_count": 77,
     "metadata": {},
     "output_type": "execute_result"
    }
   ],
   "source": [
    "Calculate_total_cost(100)"
   ]
  },
  {
   "cell_type": "code",
   "execution_count": null,
   "metadata": {
    "colab": {
     "base_uri": "https://localhost:8080/"
    },
    "executionInfo": {
     "elapsed": 10,
     "status": "ok",
     "timestamp": 1694984635395,
     "user": {
      "displayName": "Mohsin Raza",
      "userId": "02069157311777040551"
     },
     "user_tz": -300
    },
    "id": "n6FNXRhB842j",
    "outputId": "c65d05bb-7ade-4c13-ec63-93e96f90d000"
   },
   "outputs": [
    {
     "data": {
      "text/plain": [
       "108.0"
      ]
     },
     "execution_count": 78,
     "metadata": {},
     "output_type": "execute_result"
    }
   ],
   "source": [
    "Calculate_total_cost(100,0.08)"
   ]
  },
  {
   "cell_type": "code",
   "execution_count": null,
   "metadata": {
    "colab": {
     "base_uri": "https://localhost:8080/"
    },
    "executionInfo": {
     "elapsed": 9,
     "status": "ok",
     "timestamp": 1694984673526,
     "user": {
      "displayName": "Mohsin Raza",
      "userId": "02069157311777040551"
     },
     "user_tz": -300
    },
    "id": "X-0cxzWa9P6E",
    "outputId": "2afe9a6b-0bcc-4c82-a740-f311df52438d"
   },
   "outputs": [
    {
     "data": {
      "text/plain": [
       "135.0"
      ]
     },
     "execution_count": 79,
     "metadata": {},
     "output_type": "execute_result"
    }
   ],
   "source": [
    "Calculate_total_cost(100,discount=5)"
   ]
  },
  {
   "cell_type": "code",
   "execution_count": null,
   "metadata": {
    "colab": {
     "base_uri": "https://localhost:8080/"
    },
    "executionInfo": {
     "elapsed": 6,
     "status": "ok",
     "timestamp": 1694984997613,
     "user": {
      "displayName": "Mohsin Raza",
      "userId": "02069157311777040551"
     },
     "user_tz": -300
    },
    "id": "KZUVWKbi9ZOs",
    "outputId": "d9a3a332-bfe7-48ae-fa8e-e3afc2fbb82a"
   },
   "outputs": [
    {
     "name": "stdout",
     "output_type": "stream",
     "text": [
      "Positional arguments: (1, 2, 3)\n",
      "Keyword arguments: {'a': 4, 'b': 5}\n"
     ]
    }
   ],
   "source": [
    "def print_args(*args, **kwargs):\n",
    "    print(\"Positional arguments:\", args)\n",
    "    print(\"Keyword arguments:\", kwargs)\n",
    "\n",
    "print_args(1, 2, 3, a=4, b=5)"
   ]
  },
  {
   "cell_type": "code",
   "execution_count": null,
   "metadata": {
    "id": "BYRoDCct_pvL"
   },
   "outputs": [],
   "source": [
    "def addition(*num):\n",
    "  total = 0\n",
    "  for n in num:\n",
    "    print(f\"sum of {total} + {n} is: \",total + n)\n",
    "    total += n\n",
    "  return total"
   ]
  },
  {
   "cell_type": "code",
   "execution_count": null,
   "metadata": {
    "colab": {
     "base_uri": "https://localhost:8080/"
    },
    "executionInfo": {
     "elapsed": 10,
     "status": "ok",
     "timestamp": 1694985988550,
     "user": {
      "displayName": "Mohsin Raza",
      "userId": "02069157311777040551"
     },
     "user_tz": -300
    },
    "id": "3-m-ptUzCOhT",
    "outputId": "a9df9359-524f-45e1-f44d-89f368a2a888"
   },
   "outputs": [
    {
     "name": "stdout",
     "output_type": "stream",
     "text": [
      "sum of 0 + 1 is:  1\n",
      "sum of 1 + 2 is:  3\n",
      "sum of 3 + 3 is:  6\n",
      "sum of 6 + 4 is:  10\n",
      "sum of 10 + 5 is:  15\n"
     ]
    },
    {
     "data": {
      "text/plain": [
       "15"
      ]
     },
     "execution_count": 107,
     "metadata": {},
     "output_type": "execute_result"
    }
   ],
   "source": [
    "addition(1,2,3,4,5)"
   ]
  },
  {
   "cell_type": "code",
   "execution_count": null,
   "metadata": {
    "colab": {
     "base_uri": "https://localhost:8080/"
    },
    "executionInfo": {
     "elapsed": 6893,
     "status": "ok",
     "timestamp": 1695119762054,
     "user": {
      "displayName": "Mohsin Raza",
      "userId": "02069157311777040551"
     },
     "user_tz": -300
    },
    "id": "u94r2ILDCRCA",
    "outputId": "5d09809d-846d-4550-aa86-92a24c4ecede"
   },
   "outputs": [
    {
     "name": "stdout",
     "output_type": "stream",
     "text": [
      "Enter first number :525\n",
      "Enter second number :45\n",
      "Thew HCF of 525 and 45 is : 15\n"
     ]
    }
   ],
   "source": [
    "def HCF(a,b):\n",
    "  while b:\n",
    "    a, b = b, a % b\n",
    "  return a\n",
    "num1 = int(input(\"Enter first number :\"))\n",
    "num2 = int(input(\"Enter second number :\"))\n",
    "print(f\"Thew HCF of {num1} and {num2} is :\",HCF(num1,num2))\n"
   ]
  },
  {
   "cell_type": "code",
   "execution_count": null,
   "metadata": {
    "colab": {
     "base_uri": "https://localhost:8080/"
    },
    "executionInfo": {
     "elapsed": 14,
     "status": "ok",
     "timestamp": 1695119314376,
     "user": {
      "displayName": "Mohsin Raza",
      "userId": "02069157311777040551"
     },
     "user_tz": -300
    },
    "id": "vi8KldiO8NY-",
    "outputId": "55115fc9-39d8-43f0-c5aa-8c151cd55b9c"
   },
   "outputs": [
    {
     "name": "stdout",
     "output_type": "stream",
     "text": [
      "3\n"
     ]
    }
   ],
   "source": [
    "def GCF(numbers):\n",
    "  gcf = numbers[0]\n",
    "  for num in numbers[1:]:\n",
    "    while num !=0:\n",
    "      gcf, num =num, gcf % num\n",
    "  return gcf\n",
    "numbers = (15,21,27,90,48)\n",
    "res = GCF(numbers)\n",
    "print(res)"
   ]
  },
  {
   "cell_type": "code",
   "execution_count": null,
   "metadata": {
    "id": "p2REjfDVZA5e"
   },
   "outputs": [],
   "source": [
    "def LCM(a,b):\n",
    "  hcf = HCF(a,b)\n",
    "  lcm = (a * b)/hcf\n",
    "  return lcm"
   ]
  },
  {
   "cell_type": "code",
   "execution_count": null,
   "metadata": {
    "colab": {
     "base_uri": "https://localhost:8080/"
    },
    "executionInfo": {
     "elapsed": 6423,
     "status": "ok",
     "timestamp": 1695059794894,
     "user": {
      "displayName": "Mohsin Raza",
      "userId": "02069157311777040551"
     },
     "user_tz": -300
    },
    "id": "u91dWL3Oa70J",
    "outputId": "48d3b583-bc8c-4512-e42b-60c56535946a"
   },
   "outputs": [
    {
     "name": "stdout",
     "output_type": "stream",
     "text": [
      "Enter first number :20\n",
      "Enter second number :50\n",
      "Thew LCM of 20 and 50 is : 100.0\n"
     ]
    }
   ],
   "source": [
    "num1 = int(input(\"Enter first number :\"))\n",
    "num2 = int(input(\"Enter second number :\"))\n",
    "print(f\"Thew LCM of {num1} and {num2} is :\",LCM(num1,num2))"
   ]
  },
  {
   "cell_type": "code",
   "execution_count": null,
   "metadata": {
    "colab": {
     "base_uri": "https://localhost:8080/"
    },
    "executionInfo": {
     "elapsed": 10,
     "status": "ok",
     "timestamp": 1695156349726,
     "user": {
      "displayName": "Mohsin Raza",
      "userId": "02069157311777040551"
     },
     "user_tz": -300
    },
    "id": "5FQ3vv0wA314",
    "outputId": "aa48d45a-b086-4c16-96d7-491c3cca4448"
   },
   "outputs": [
    {
     "name": "stdout",
     "output_type": "stream",
     "text": [
      "1575\n"
     ]
    }
   ],
   "source": [
    "def LCM_of_multiple_numbers(numbers):\n",
    "  def find_lcm(a,b):\n",
    "    return a * b // find_hcf(a,b)\n",
    "  def find_hcf(a,b):\n",
    "    while b:\n",
    "      a, b =b, a%b\n",
    "    return a\n",
    "  lcm_result = numbers[0]\n",
    "  for num in numbers[1:]:\n",
    "    lcm_result = find_lcm(lcm_result, num)\n",
    "  return lcm_result\n",
    "\n",
    "numbers = (15,25,35,45)\n",
    "lcm_result = LCM_of_multiple_numbers(numbers)\n",
    "print(lcm_result)"
   ]
  },
  {
   "cell_type": "code",
   "execution_count": null,
   "metadata": {
    "colab": {
     "base_uri": "https://localhost:8080/"
    },
    "executionInfo": {
     "elapsed": 17,
     "status": "ok",
     "timestamp": 1695119605583,
     "user": {
      "displayName": "Mohsin Raza",
      "userId": "02069157311777040551"
     },
     "user_tz": -300
    },
    "id": "U99wPlGJbWVu",
    "outputId": "7d4f8979-16bf-47c5-a546-8a714a6e6a8d"
   },
   "outputs": [
    {
     "data": {
      "text/plain": [
       "375"
      ]
     },
     "execution_count": 11,
     "metadata": {},
     "output_type": "execute_result"
    }
   ],
   "source": [
    "15*25"
   ]
  },
  {
   "cell_type": "code",
   "execution_count": null,
   "metadata": {
    "colab": {
     "base_uri": "https://localhost:8080/"
    },
    "executionInfo": {
     "elapsed": 11,
     "status": "ok",
     "timestamp": 1695119621352,
     "user": {
      "displayName": "Mohsin Raza",
      "userId": "02069157311777040551"
     },
     "user_tz": -300
    },
    "id": "GRNjDRGJAHhR",
    "outputId": "ac844216-fa9e-46df-9c67-3e59dcebc9c6"
   },
   "outputs": [
    {
     "data": {
      "text/plain": [
       "75"
      ]
     },
     "execution_count": 12,
     "metadata": {},
     "output_type": "execute_result"
    }
   ],
   "source": [
    "375//5"
   ]
  },
  {
   "cell_type": "code",
   "execution_count": null,
   "metadata": {
    "colab": {
     "base_uri": "https://localhost:8080/"
    },
    "executionInfo": {
     "elapsed": 19,
     "status": "ok",
     "timestamp": 1695119657173,
     "user": {
      "displayName": "Mohsin Raza",
      "userId": "02069157311777040551"
     },
     "user_tz": -300
    },
    "id": "c3o4pb3SALZS",
    "outputId": "479caafd-817a-4d11-ba4a-e6e1a61e2cf5"
   },
   "outputs": [
    {
     "data": {
      "text/plain": [
       "2625"
      ]
     },
     "execution_count": 13,
     "metadata": {},
     "output_type": "execute_result"
    }
   ],
   "source": [
    "75*35"
   ]
  },
  {
   "cell_type": "code",
   "execution_count": null,
   "metadata": {
    "colab": {
     "base_uri": "https://localhost:8080/"
    },
    "executionInfo": {
     "elapsed": 14,
     "status": "ok",
     "timestamp": 1695119688972,
     "user": {
      "displayName": "Mohsin Raza",
      "userId": "02069157311777040551"
     },
     "user_tz": -300
    },
    "id": "w3vvmKQBAUHV",
    "outputId": "dde292c4-bba4-482d-f5e2-c1c713eb272a"
   },
   "outputs": [
    {
     "data": {
      "text/plain": [
       "525"
      ]
     },
     "execution_count": 14,
     "metadata": {},
     "output_type": "execute_result"
    }
   ],
   "source": [
    "2625//5"
   ]
  },
  {
   "cell_type": "code",
   "execution_count": null,
   "metadata": {
    "colab": {
     "base_uri": "https://localhost:8080/"
    },
    "executionInfo": {
     "elapsed": 15,
     "status": "ok",
     "timestamp": 1695119703744,
     "user": {
      "displayName": "Mohsin Raza",
      "userId": "02069157311777040551"
     },
     "user_tz": -300
    },
    "id": "lHqsZHjIAb4o",
    "outputId": "15706c48-0436-4217-d787-734736c59d16"
   },
   "outputs": [
    {
     "data": {
      "text/plain": [
       "23625"
      ]
     },
     "execution_count": 15,
     "metadata": {},
     "output_type": "execute_result"
    }
   ],
   "source": [
    "525*45"
   ]
  },
  {
   "cell_type": "code",
   "execution_count": null,
   "metadata": {
    "colab": {
     "base_uri": "https://localhost:8080/"
    },
    "executionInfo": {
     "elapsed": 15,
     "status": "ok",
     "timestamp": 1695119782965,
     "user": {
      "displayName": "Mohsin Raza",
      "userId": "02069157311777040551"
     },
     "user_tz": -300
    },
    "id": "DpxHUGQVAfc7",
    "outputId": "611f6389-508d-4edd-f535-e9803c182ed3"
   },
   "outputs": [
    {
     "data": {
      "text/plain": [
       "1575"
      ]
     },
     "execution_count": 17,
     "metadata": {},
     "output_type": "execute_result"
    }
   ],
   "source": [
    "23625//15"
   ]
  },
  {
   "cell_type": "code",
   "execution_count": null,
   "metadata": {
    "id": "UuwjVqj1Ay2a"
   },
   "outputs": [],
   "source": [
    "def areaoftriangle(l,h):\n",
    "    area = l*h*0.5\n",
    "    return area , l , h"
   ]
  },
  {
   "cell_type": "code",
   "execution_count": null,
   "metadata": {
    "id": "Ska5cMPCBIjw"
   },
   "outputs": [],
   "source": [
    "area, l, h = areaoftriangle(5,6)"
   ]
  },
  {
   "cell_type": "code",
   "execution_count": null,
   "metadata": {
    "colab": {
     "base_uri": "https://localhost:8080/"
    },
    "executionInfo": {
     "elapsed": 8,
     "status": "ok",
     "timestamp": 1695154208567,
     "user": {
      "displayName": "Mohsin Raza",
      "userId": "02069157311777040551"
     },
     "user_tz": -300
    },
    "id": "Q1yFQoqPBOi7",
    "outputId": "c1a91cd6-ecdb-40be-f509-f3ff3285d735"
   },
   "outputs": [
    {
     "name": "stdout",
     "output_type": "stream",
     "text": [
      "The area of triangle with length 5 and height 6 is 15.0 sq.m\n"
     ]
    }
   ],
   "source": [
    "print(f\"The area of triangle with length {l} and height {h} is {area} sq.m\")"
   ]
  },
  {
   "cell_type": "code",
   "execution_count": null,
   "metadata": {
    "id": "40BCsnfaBUCr"
   },
   "outputs": [],
   "source": [
    "import math"
   ]
  },
  {
   "cell_type": "code",
   "execution_count": null,
   "metadata": {
    "colab": {
     "base_uri": "https://localhost:8080/"
    },
    "executionInfo": {
     "elapsed": 14,
     "status": "ok",
     "timestamp": 1695157416546,
     "user": {
      "displayName": "Mohsin Raza",
      "userId": "02069157311777040551"
     },
     "user_tz": -300
    },
    "id": "rB-NhiBbNYSp",
    "outputId": "f7a5b0ed-ddee-4de6-db91-64160fd30db3"
   },
   "outputs": [
    {
     "name": "stdout",
     "output_type": "stream",
     "text": [
      "lcm of given (15, 25, 35, 45) numbers is: 1575\n"
     ]
    }
   ],
   "source": [
    "numbers = (15,25,35,45)\n",
    "lcm_result = math.lcm(*numbers)\n",
    "print(f\"lcm of given {numbers} numbers is: {lcm_result}\")"
   ]
  },
  {
   "cell_type": "code",
   "execution_count": null,
   "metadata": {
    "colab": {
     "base_uri": "https://localhost:8080/"
    },
    "executionInfo": {
     "elapsed": 26046,
     "status": "ok",
     "timestamp": 1695157342837,
     "user": {
      "displayName": "Mohsin Raza",
      "userId": "02069157311777040551"
     },
     "user_tz": -300
    },
    "id": "Y4inoNrJPS4I",
    "outputId": "7e896d35-fe87-4bca-cb92-5b7f808017f8"
   },
   "outputs": [
    {
     "name": "stdout",
     "output_type": "stream",
     "text": [
      "Enter the number of numbers: 6\n",
      "Enter number 1: 12\n",
      "Enter number 2: 18\n",
      "Enter number 3: 24\n",
      "Enter number 4: 30\n",
      "Enter number 5: 36\n",
      "Enter number 6: 47\n",
      "The LCM of [12, 18, 24, 30, 36, 47] is 16920\n"
     ]
    }
   ],
   "source": [
    "import math\n",
    "\n",
    "# Initialize an empty list to store the user-entered numbers\n",
    "numbers = []\n",
    "\n",
    "# Get the number of numbers the user wants to input\n",
    "num_count = int(input(\"Enter the number of numbers: \"))\n",
    "\n",
    "# Loop to input numbers from the user\n",
    "for i in range(num_count):\n",
    "    num = int(input(f\"Enter number {i + 1}: \"))\n",
    "    numbers.append(num)\n",
    "\n",
    "# Calculate the LCM using the math.lcm() function\n",
    "lcm_result = math.lcm(*numbers)\n",
    "\n",
    "# Print the result\n",
    "print(f\"The LCM of {numbers} is {lcm_result}\")\n"
   ]
  },
  {
   "cell_type": "code",
   "execution_count": null,
   "metadata": {
    "id": "2GaGeTBXPTkr"
   },
   "outputs": [],
   "source": [
    "def afunction(*names):\n",
    "  for name in names:\n",
    "    print(f\"Hello {name}\")"
   ]
  },
  {
   "cell_type": "code",
   "execution_count": null,
   "metadata": {
    "colab": {
     "base_uri": "https://localhost:8080/"
    },
    "executionInfo": {
     "elapsed": 8,
     "status": "ok",
     "timestamp": 1695158040096,
     "user": {
      "displayName": "Mohsin Raza",
      "userId": "02069157311777040551"
     },
     "user_tz": -300
    },
    "id": "nFwScU81SUOH",
    "outputId": "9db33d8a-63a3-4248-b889-de1422c3f0c8"
   },
   "outputs": [
    {
     "name": "stdout",
     "output_type": "stream",
     "text": [
      "Hello mohsin\n",
      "Hello ahsan\n",
      "Hello ali\n"
     ]
    }
   ],
   "source": [
    "afunction(\"mohsin\", \"ahsan\", \"ali\")"
   ]
  },
  {
   "cell_type": "code",
   "execution_count": null,
   "metadata": {
    "id": "LdXv5zmGSbF9"
   },
   "outputs": [],
   "source": [
    "def userprofile(first, last, **otherdetails):\n",
    "   print(first)\n",
    "   print(last)\n",
    "   print(otherdetails)\n",
    "   for i in otherdetails:\n",
    "    print(i) #bydefault keys return\n",
    "   for v in otherdetails.values():\n",
    "    print(v)\n",
    "   for k,v in otherdetails.items():\n",
    "    print(k,v)"
   ]
  },
  {
   "cell_type": "code",
   "execution_count": null,
   "metadata": {
    "colab": {
     "base_uri": "https://localhost:8080/"
    },
    "executionInfo": {
     "elapsed": 10,
     "status": "ok",
     "timestamp": 1695159802921,
     "user": {
      "displayName": "Mohsin Raza",
      "userId": "02069157311777040551"
     },
     "user_tz": -300
    },
    "id": "NAhcl-sCTr_z",
    "outputId": "a53bdcc5-384e-43ac-b083-d54f9028b552"
   },
   "outputs": [
    {
     "name": "stdout",
     "output_type": "stream",
     "text": [
      "mohsin\n",
      "Raza\n",
      "{'college': 'SM Science college', 'university': 'Dawood university'}\n",
      "college\n",
      "university\n",
      "SM Science college\n",
      "Dawood university\n",
      "college SM Science college\n",
      "university Dawood university\n"
     ]
    }
   ],
   "source": [
    "userprofile(first=\"mohsin\", last=\"Raza\", college=\"SM Science college\", university=\"Dawood university\")"
   ]
  },
  {
   "cell_type": "code",
   "execution_count": null,
   "metadata": {
    "id": "TMf_1wsQW7Bq"
   },
   "outputs": [],
   "source": [
    "def userprofile(first, last, **otherdetails):\n",
    "  profile = {}\n",
    "  profile['first'] = first\n",
    "  profile['last'] = last\n",
    "  profile['others'] = otherdetails\n",
    "  return profile"
   ]
  },
  {
   "cell_type": "code",
   "execution_count": null,
   "metadata": {
    "colab": {
     "base_uri": "https://localhost:8080/"
    },
    "executionInfo": {
     "elapsed": 389,
     "status": "ok",
     "timestamp": 1695160148995,
     "user": {
      "displayName": "Mohsin Raza",
      "userId": "02069157311777040551"
     },
     "user_tz": -300
    },
    "id": "ZQQYmLc2arXq",
    "outputId": "e961f871-d7c9-414b-82d7-f6877bfe752e"
   },
   "outputs": [
    {
     "data": {
      "text/plain": [
       "{'first': 'mohsin',\n",
       " 'last': 'Raza',\n",
       " 'others': {'age': 21,\n",
       "  'college': 'SM Science college',\n",
       "  'university': 'Dawood university'}}"
      ]
     },
     "execution_count": 84,
     "metadata": {},
     "output_type": "execute_result"
    }
   ],
   "source": [
    "userprofile(first=\"mohsin\", last=\"Raza\", age= 21, college=\"SM Science college\", university=\"Dawood university\")"
   ]
  },
  {
   "cell_type": "code",
   "execution_count": null,
   "metadata": {
    "id": "fX2qA5N0ax7Z"
   },
   "outputs": [],
   "source": [
    "def userprofile(first, last, **otherdetails):\n",
    "  profile = {}\n",
    "  profile['first'] = first\n",
    "  profile['last'] = last\n",
    "  for key,val in otherdetails.items():\n",
    "    profile[key] = val\n",
    "  return profile"
   ]
  },
  {
   "cell_type": "code",
   "execution_count": null,
   "metadata": {
    "colab": {
     "base_uri": "https://localhost:8080/"
    },
    "executionInfo": {
     "elapsed": 417,
     "status": "ok",
     "timestamp": 1695160371154,
     "user": {
      "displayName": "Mohsin Raza",
      "userId": "02069157311777040551"
     },
     "user_tz": -300
    },
    "id": "aRGeDJd0bIYL",
    "outputId": "24a60053-915c-45d1-e987-a1c9b16b2276"
   },
   "outputs": [
    {
     "data": {
      "text/plain": [
       "{'first': 'mohsin',\n",
       " 'last': 'Raza',\n",
       " 'age': 21,\n",
       " 'college': 'SM Science college',\n",
       " 'university': 'Dawood university'}"
      ]
     },
     "execution_count": 90,
     "metadata": {},
     "output_type": "execute_result"
    }
   ],
   "source": [
    "userprofile(first=\"mohsin\", last=\"Raza\", age= 21, college=\"SM Science college\", university=\"Dawood university\")"
   ]
  },
  {
   "cell_type": "code",
   "execution_count": null,
   "metadata": {
    "id": "WJ_c6tWqbKhV"
   },
   "outputs": [],
   "source": []
  }
 ],
 "metadata": {
  "colab": {
   "authorship_tag": "ABX9TyMnKzwfmkiBLqg0/ExR1mlx",
   "provenance": []
  },
  "kernelspec": {
   "display_name": "Python 3 (ipykernel)",
   "language": "python",
   "name": "python3"
  },
  "language_info": {
   "codemirror_mode": {
    "name": "ipython",
    "version": 3
   },
   "file_extension": ".py",
   "mimetype": "text/x-python",
   "name": "python",
   "nbconvert_exporter": "python",
   "pygments_lexer": "ipython3",
   "version": "3.12.4"
  }
 },
 "nbformat": 4,
 "nbformat_minor": 4
}
